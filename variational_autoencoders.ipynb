{
  "cells": [
    {
      "cell_type": "markdown",
      "metadata": {
        "id": "ZzXMxN_0HJxF"
      },
      "source": [
        "## Variational Autoencoders"
      ]
    },
    {
      "cell_type": "markdown",
      "metadata": {
        "id": "9dVkXT94HJxJ"
      },
      "source": [
        "This notebook implements a simple Variatonal Autoencoder (VAE) using the MNIST dataset.  A VAE is a neural network (in our case a convolutional neural network) with two parts; an encoder and a decoder.  The final result will be a generative model that lets us smoothly interpolate between two distinct images.  The orginal paper on VAEs can be found [here](https://arxiv.org/abs/1312.6114)."
      ]
    },
    {
      "cell_type": "code",
      "execution_count": 28,
      "metadata": {
        "id": "gfOSTrX_HJxK"
      },
      "outputs": [],
      "source": [
        "# import libraries\n",
        "import IPython\n",
        "import numpy as np\n",
        "import torch\n",
        "import random\n",
        "from torch.utils.data import Dataset, DataLoader\n",
        "import torch.nn as nn\n",
        "import torch.nn.functional as F\n",
        "import torch.optim as optim\n",
        "from torch.nn import Module\n",
        "from torchvision import datasets, transforms\n",
        "from torch.autograd import Variable\n",
        "import cv2\n",
        "from skimage.metrics import peak_signal_noise_ratio\n",
        "import os\n",
        "import torchvision\n",
        "import PIL\n",
        "import matplotlib.pyplot as plt\n",
        "from PIL import Image\n",
        "import torchvision.transforms.functional as TF\n",
        "from torchvision.datasets import MNIST"
      ]
    },
    {
      "cell_type": "markdown",
      "metadata": {
        "id": "pLLyctPuHJxL"
      },
      "source": [
        "## Model"
      ]
    },
    {
      "cell_type": "markdown",
      "metadata": {
        "id": "C2RkTQNEHJxL"
      },
      "source": [
        "The purpose of an autoencoder (the non variational type) is to take some input $x$ and reduce its dimensions such that it can then be reconstructed with minimal corruption.  It is made up of two parts, an encoder $e$ and a decoder $d$. An input $x$ is passed through the encoder.  This generates a vector which we call a point in the latent space.  This vector is then passed though the decoder to get our output.  Mathmatically this can be described as\n",
        "\n",
        "$$ (e^*, d^*) = \\underset{(e,d)}{\\text{arg min }} \\epsilon(x,d(e(x)))$$\n",
        "\n",
        "where $\\epsilon$ is our reconstruction error.  Autoencoders can effectively perform dimensionality reduction, but the latent space is unstructured. Variational Autoencoders (VAEs) structure this latent space using regularization, thereby enforcing two nice properties; continuity (two close points in the latent space should look similar when decoded) and completeness (a sampled point should produce a meaningful output when decoded).  This regularization is acheived via the loss function described in the next section.  \n",
        "\n",
        "Also note that VAEs encode an input as a distrubution, not a point.  The encoder still produces a vector, but half this vector describes the distributions mean $\\mu$ and half describes the covariance $\\sigma$.  This distribution is then sampled and the result is passed to the decoder.  So how can we backpropagate through a random sample?  This is done using the reparametrization trick, which means that instead of sampling using $z\\sim\\mathcal{N}(\\mu,\\sigma)$ we sample with\n",
        "\n",
        "$$ z = \\mu + \\sigma \\xi $$\n",
        "$$ \\xi \\sim \\mathcal{N}(0,I)$$\n",
        "\n",
        "thus allowing us to backpropagate through, and learn, $\\mu$ and $\\sigma$."
      ]
    },
    {
      "cell_type": "code",
      "execution_count": 46,
      "metadata": {
        "colab": {
          "base_uri": "https://localhost:8080/"
        },
        "id": "tk45UfgyHJxM",
        "outputId": "1b56660c-a974-4eee-9bd4-b12174082084"
      },
      "outputs": [
        {
          "output_type": "stream",
          "name": "stdout",
          "text": [
            "Num params:  119828225\n"
          ]
        }
      ],
      "source": [
        "class VAE(Module):\n",
        "\n",
        "    def __init__(self, bottleneck_size, channel_size=1):\n",
        "        super().__init__()\n",
        "        self.bottleneck_size = bottleneck_size\n",
        "        self.channel_size    = channel_size\n",
        "\n",
        "        # Encoder Convolutional layers\n",
        "        self.encoder_conv = nn.Sequential(\n",
        "            nn.Conv2d(channel_size, 16, 3),\n",
        "            nn.BatchNorm2d(16),\n",
        "            nn.ReLU(True),\n",
        "            nn.Conv2d(16, 64, 3),\n",
        "            nn.BatchNorm2d(64),\n",
        "            nn.ReLU(True),\n",
        "            nn.Conv2d(64, 256, 3),\n",
        "            nn.BatchNorm2d(256),\n",
        "            nn.ReLU(True),\n",
        "            nn.Conv2d(256, 1024, 3),\n",
        "            nn.ReLU(True)\n",
        "        )\n",
        "        \n",
        "        # Max pooling layer\n",
        "        self.encoder_pooler = nn.Sequential(\n",
        "            nn.MaxPool2d(2, stride=2, return_indices=True)\n",
        "        )\n",
        "\n",
        "        # Encoders first linear layer\n",
        "        self.encoder_linear_1 = nn.Sequential(\n",
        "            nn.Flatten(start_dim=1),\n",
        "            nn.Linear(1024 * 10 * 10, bottleneck_size * 2),\n",
        "            nn.ReLU(True)\n",
        "        )\n",
        "\n",
        "        # Bottle neck, ends up outputing the mean of the latent spaces distribution\n",
        "        self.encoder_linear_21 = nn.Sequential(\n",
        "            nn.Linear(bottleneck_size * 2, bottleneck_size),\n",
        "        )\n",
        "\n",
        "        # Bottle neck, ends up outputing the standard deviation of the latent spaces distribution\n",
        "        self.encoder_linear_22 = nn.Sequential(\n",
        "            nn.Linear(bottleneck_size * 2, bottleneck_size),\n",
        "        )\n",
        "\n",
        "        # Decoders linear layers \n",
        "        self.decoder_linear = nn.Sequential(\n",
        "            nn.Linear(bottleneck_size, bottleneck_size * 2),\n",
        "            nn.ReLU(True),\n",
        "            nn.Linear(bottleneck_size * 2, 1024 * 10 * 10),\n",
        "            nn.ReLU(True),\n",
        "            nn.Unflatten(dim=1, unflattened_size=(1024, 10, 10))\n",
        "        )\n",
        "\n",
        "        # Reverses max pooling\n",
        "        self.decoder_unpooler = nn.Sequential(\n",
        "            nn.ConvTranspose2d(1024, 1024, 3, stride=2, padding=1, output_padding=1),\n",
        "            nn.ReLU(True)\n",
        "        )\n",
        "\n",
        "        # Decoders convolutional layers\n",
        "        self.decoder_conv = nn.Sequential(\n",
        "            nn.ConvTranspose2d(1024, 256, 3),\n",
        "            nn.BatchNorm2d(256),\n",
        "            nn.ReLU(True),\n",
        "            nn.ConvTranspose2d(256, 64, 3),\n",
        "            nn.BatchNorm2d(64),\n",
        "            nn.ReLU(True),\n",
        "            nn.ConvTranspose2d(64, 16, 3),\n",
        "            nn.BatchNorm2d(16),\n",
        "            nn.ReLU(True),\n",
        "            nn.ConvTranspose2d(16, channel_size, 3),\n",
        "            nn.Sigmoid()\n",
        "        )\n",
        "\n",
        "    \n",
        "    def encoder(self,image):\n",
        "        \n",
        "        conv = self.encoder_conv(image)\n",
        "        conv, _ = self.encoder_pooler(conv)\n",
        "        code = self.encoder_linear_1(conv)\n",
        "\n",
        "        mu = self.encoder_linear_21(code)\n",
        "        std = torch.exp(self.encoder_linear_22(code))\n",
        "\n",
        "        return mu, std\n",
        "    \n",
        "    def reparametrization_trick(self,mu,std):\n",
        "        \n",
        "        sample = torch.randn_like(std)\n",
        "        z = mu + (std * sample)\n",
        " \n",
        "        return z\n",
        "    \n",
        "    def decoder(self,code):\n",
        "\n",
        "        linear = self.decoder_linear(code)\n",
        "        unflat = self.decoder_unpooler(linear)\n",
        "        decoded_image = self.decoder_conv(unflat)\n",
        "\n",
        "        return decoded_image\n",
        "    \n",
        "    def forward(self, image):\n",
        "    \n",
        "        mu, std = self.encoder(image)\n",
        "        z = self.reparametrization_trick(mu, std)\n",
        "        decoded_image = self.decoder(z)\n",
        "        \n",
        "        return decoded_image, mu, std\n",
        "\n",
        "bottleneck_size = 256\n",
        "model = VAE(bottleneck_size)\n",
        "print(\"Num params: \", sum(p.numel() for p in model.parameters()))"
      ]
    },
    {
      "cell_type": "markdown",
      "metadata": {
        "id": "6ZRWWqfv1Qu1"
      },
      "source": [
        "## Loss Function"
      ]
    },
    {
      "cell_type": "markdown",
      "metadata": {
        "id": "N-hCG43OHJxR"
      },
      "source": [
        "The loss function for VAEs has two components, reconsturction loss and regularization loss (KL divergence).\n",
        "\n",
        "\n",
        "**Reconsturction loss** - This is the same loss an ordinary autoencoder would use.  The aim of this loss is to ensure the input $x$ and output $y$ are as close as possible to eachother.  For this component we simply need to take the sum of square differences between $x$ and $y$\n",
        "$$ L_{recon} = \\sum_{n=1}^N{(x_n-y_n)^2} $$\n",
        "\n",
        "**Regularization loss** - KL divergence $D_{KL}$ is a metric which compares two distributions, the largers the KL divergence, the larger the difference between the two distribution.  The two distributions in question here are $p(z|x)$, the probability distribution that projects our data $x$ into latent space $z$, and a simplified estimate of that distribution $q(z|x)$\n",
        "\n",
        "\n",
        "$$\n",
        "\\begin{align}\n",
        "L_{reg} && = && D_{KL}( ~ q(z|x) ~ || ~ p(z|x) ~ ) ~~~~~~~~\\\\\n",
        " && = && \\sum_{m=1}^M{\\sigma_m^2+\\mu_m^2-\\text{log}(\\sigma_m) - 1}\\\\\n",
        "\\end{align}\n",
        "$$\n",
        "\n",
        "where $\\mu$ is the latent spaces current mean and $\\sigma$ is the current covariance.  How we went from the first to the second line here isn't obvious, so for the full derivation see [this stack exchange answer](https://stats.stackexchange.com/questions/318748/deriving-the-kl-divergence-loss-for-vaes/370048#370048).  \n",
        "\n",
        "**Final Loss** - Our final loss function is therefore\n",
        "\n",
        "$$ L_{final} = L_{recon} + L_{reg} $$\n"
      ]
    },
    {
      "cell_type": "code",
      "execution_count": 175,
      "metadata": {
        "id": "eMy9Q1euHJxR"
      },
      "outputs": [],
      "source": [
        "def reconstruction_loss(input,target):\n",
        "    # Sum of square differences loss function\n",
        "    recon_loss = ((target - input)**2).sum()\n",
        "    return recon_loss\n",
        "\n",
        "def kl_divergence_loss(mu,std):\n",
        "    # KL divergence (see explaination above)\n",
        "    kl_loss = (std**2 + mu**2 - torch.log(std) - 1).sum()\n",
        "    # multiply by scaler to increase importance\n",
        "    kl_loss *= 0.5 # Play around with this value if you're getting junk outputs\n",
        "    \n",
        "    return kl_loss"
      ]
    },
    {
      "cell_type": "markdown",
      "metadata": {
        "id": "RU92t1HXHJxP"
      },
      "source": [
        "## Data"
      ]
    },
    {
      "cell_type": "markdown",
      "metadata": {
        "id": "ECO0Yq0eHJxP"
      },
      "source": [
        "Download and plot some examples from the training data."
      ]
    },
    {
      "cell_type": "code",
      "execution_count": 176,
      "metadata": {
        "colab": {
          "base_uri": "https://localhost:8080/",
          "height": 210
        },
        "id": "1gF3n4PpHJxP",
        "outputId": "85c155ce-e0c4-46a6-adb0-4b47d20aff23"
      },
      "outputs": [
        {
          "output_type": "execute_result",
          "data": {
            "text/plain": [
              "<matplotlib.image.AxesImage at 0x7fdb6aad9550>"
            ]
          },
          "metadata": {},
          "execution_count": 176
        },
        {
          "output_type": "display_data",
          "data": {
            "text/plain": [
              "<Figure size 864x180 with 5 Axes>"
            ],
            "image/png": "[encoded data removed]"
          },
          "metadata": {
            "needs_background": "light"
          }
        }
      ],
      "source": [
        "# Are we using the CPU or the GPU?\n",
        "device = \"cuda\" if torch.cuda.is_available() else \"cpu\"\n",
        "\n",
        "# Transforms to be applied to all images in the dataset\n",
        "tf = transforms.Compose(\n",
        "    [transforms.ToTensor()]\n",
        ")\n",
        "\n",
        "# Download/setup the MNIST dataset\n",
        "dataset = MNIST(\n",
        "    \"./data\",\n",
        "    train=True,\n",
        "    download=True,\n",
        "    transform=tf,\n",
        ")\n",
        "\n",
        "# Plot examples\n",
        "fig, ax= plt.subplots(1, 5, figsize=(12, 2.5))\n",
        "fig.suptitle('MNIST Examples')\n",
        "ax[0].imshow(dataset[0][0][0,:,:].numpy())\n",
        "ax[1].imshow(dataset[1][0][0,:,:].numpy())\n",
        "ax[2].imshow(dataset[2][0][0,:,:].numpy())\n",
        "ax[3].imshow(dataset[3][0][0,:,:].numpy())\n",
        "ax[4].imshow(dataset[4][0][0,:,:].numpy())\n"
      ]
    },
    {
      "cell_type": "markdown",
      "metadata": {
        "id": "mLeHkyNtHJxQ"
      },
      "source": [
        "## Training"
      ]
    },
    {
      "cell_type": "markdown",
      "metadata": {
        "id": "LbOmbd0sHJxS"
      },
      "source": [
        "The model is trained like so:\n",
        "1. The input is encoded as a distribution over the latent space\n",
        "2. We take a point in the latent space by sampling from this distribution\n",
        "3. Pass the sampled point through the decoder to get an output\n",
        "4. Backpropagate through the network using the reconstruction loss and KL divergence loss"
      ]
    },
    {
      "cell_type": "code",
      "execution_count": 177,
      "metadata": {
        "colab": {
          "base_uri": "https://localhost:8080/"
        },
        "id": "2Uk2swiEHJxS",
        "outputId": "d05eb584-68ef-4850-c8a8-d5f139ffa44c"
      },
      "outputs": [
        {
          "output_type": "stream",
          "name": "stdout",
          "text": [
            "Epoch [1/5], Loss:42349527445676.6562 , Reconstruction Loss: 51.563853873697916 , KL Divergence: 42349527445625.586\n",
            "Epoch [2/5], Loss:18.2388 , Reconstruction Loss: 31.400354516601563 , KL Divergence: -13.16159814860026\n",
            "Epoch [3/5], Loss:13.6384 , Reconstruction Loss: 25.266604134114584 , KL Divergence: -11.628205969238282\n",
            "Epoch [4/5], Loss:9.3367 , Reconstruction Loss: 20.801589723714194 , KL Divergence: -11.464872692871094\n",
            "Epoch [5/5], Loss:6.6138 , Reconstruction Loss: 18.056749934895834 , KL Divergence: -11.44295527750651\n"
          ]
        }
      ],
      "source": [
        "# Create out neural network\n",
        "model = VAE(bottleneck_size)\n",
        "model.to(device)\n",
        "\n",
        "# Define hyperparameters\n",
        "num_epochs = 5\n",
        "batch_size = 256\n",
        "\n",
        "# Define optimiser and dataset objects\n",
        "optimizer = torch.optim.Adam(model.parameters(), weight_decay=1e-5)\n",
        "dataloader = torch.utils.data.DataLoader(dataset, batch_size=batch_size, shuffle=True)\n",
        "\n",
        "# Loss history arrays\n",
        "loss_history = []\n",
        "re_loss_history = []\n",
        "kl_loss_history = []\n",
        "\n",
        "# Training loop\n",
        "for epoch in range(num_epochs):\n",
        "    # Reset total loss trackers\n",
        "    total_loss = 0\n",
        "    total_kl_loss = 0\n",
        "    total_re_loss = 0\n",
        "\n",
        "    # Iterate over all MNIST dataset items\n",
        "    for data in dataloader:\n",
        "        # Load a batch of MNIST images in to memory\n",
        "        img = Variable(data[0])\n",
        "        img = img.to(device)\n",
        "\n",
        "        # Forward Pass\n",
        "        output, mu, std = model(img)\n",
        "\n",
        "        # Calculate loss\n",
        "        re_loss = reconstruction_loss(output, img)\n",
        "        kl_loss = kl_divergence_loss(mu, std)\n",
        "        loss = re_loss + kl_loss\n",
        "        total_loss += loss.item()\n",
        "        total_re_loss += re_loss.item()\n",
        "        total_kl_loss += kl_loss.item()\n",
        "\n",
        "        # Backwards Pass\n",
        "        optimizer.zero_grad()\n",
        "        loss.backward()\n",
        "        optimizer.step()\n",
        "\n",
        "\n",
        "    # Save and print loss\n",
        "    loss_history.append(total_loss / len(dataset))\n",
        "    re_loss_history.append(re_loss / len(dataset))\n",
        "    kl_loss_history.append(kl_loss / len(dataset))\n",
        "    print('Epoch [{}/{}], Loss:{:.4f}'.format(epoch+1, num_epochs, total_loss / len(dataset)), \", Reconstruction Loss:\", (total_re_loss / len(dataset)), \", KL Divergence:\", (total_kl_loss / len(dataset)))\n",
        "\n",
        "torch.save(model, 'checkpoint_vae.pth')"
      ]
    },
    {
      "cell_type": "markdown",
      "metadata": {
        "id": "cC3St3XiHJxS"
      },
      "source": [
        "## Sampling"
      ]
    },
    {
      "cell_type": "markdown",
      "metadata": {
        "id": "SFHQqStR1Qu6"
      },
      "source": [
        "Here we sample two points in the latent space and interpolate between them.  The result should be that we see one image smoothly morphing into the other."
      ]
    },
    {
      "cell_type": "code",
      "execution_count": 222,
      "metadata": {
        "id": "ie-NmlLbh7qo"
      },
      "outputs": [],
      "source": [
        "# Sample two random vectors representing two random points in the latent space \n",
        "rand_vector_1 = torch.randn(1,bottleneck_size)\n",
        "rand_vector_2 = torch.randn(1,bottleneck_size)\n",
        "rand_vector_1 = rand_vector_1.to(device)\n",
        "rand_vector_2 = rand_vector_2.to(device)"
      ]
    },
    {
      "cell_type": "code",
      "execution_count": 223,
      "metadata": {
        "colab": {
          "base_uri": "https://localhost:8080/",
          "height": 202
        },
        "id": "SdJeVKLKHJxS",
        "outputId": "1a503d0e-a071-45b4-8790-bd094205888c"
      },
      "outputs": [
        {
          "output_type": "display_data",
          "data": {
            "text/plain": [
              "<Figure size 1080x180 with 5 Axes>"
            ],
            "image/png": "[encoded data removed]"
          },
          "metadata": {
            "needs_background": "light"
          }
        }
      ],
      "source": [
        "# Define the plots\n",
        "number_of_samples = 5\n",
        "fig, axes = plt.subplots(1, number_of_samples, figsize=(15,2.5))\n",
        "fig.suptitle('Interpolation between two points in latent space')\n",
        "\n",
        "# Decode 5 points in latent space and plot the images\n",
        "for i in range(number_of_samples):\n",
        "\n",
        "    # Interpolate between the two points\n",
        "    rand_vector = rand_vector_1 * (1 - (0.25 * i)) + rand_vector_2 * (0.25 * i)\n",
        "    rand_vector.to(device)\n",
        "    # Generate the image\n",
        "    random_image = model.decoder(rand_vector)\n",
        "    # Display the image\n",
        "    img = random_image.cpu().detach().numpy()[0].transpose(1,2,0)\n",
        "    axes[i].imshow(img[:,:,0])\n"
      ]
    }
  ],
  "metadata": {
    "accelerator": "GPU",
    "colab": {
      "provenance": []
    },
    "gpuClass": "standard",
    "kernelspec": {
      "display_name": "Python 3.8.8 ('base')",
      "language": "python",
      "name": "python3"
    },
    "language_info": {
      "codemirror_mode": {
        "name": "ipython",
        "version": 3
      },
      "file_extension": ".py",
      "mimetype": "text/x-python",
      "name": "python",
      "nbconvert_exporter": "python",
      "pygments_lexer": "ipython3",
      "version": "3.8.8"
    },
    "orig_nbformat": 4,
    "vscode": {
      "interpreter": {
        "hash": "670f56a09e544e4bbfbd6b5287e0e16c8302d350aabab9be44abb05d0d81374c"
      }
    }
  },
  "nbformat": 4,
  "nbformat_minor": 0
}