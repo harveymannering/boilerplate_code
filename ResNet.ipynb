{
 "cells": [
  {
   "cell_type": "markdown",
   "metadata": {},
   "source": [
    "# ResNet \n",
    "\n",
    "The [ResNet](https://arxiv.org/abs/1512.03385) is is a neural network that can be train to classify images.  It was first proposed in 2015 an is widely used in machine learning.  In this notebook we will finetune a ResNet on a small dataset.  This code can then be repurpose for finetuning ResNets on your own tasks, be they classification, or something else.\n",
    "\n",
    "<img src=\"https://miro.medium.com/v2/resize:fit:4800/format:webp/1*Y-u7dH4WC-dXyn9jOG4w0w.png\">"
   ]
  },
  {
   "cell_type": "markdown",
   "metadata": {},
   "source": [
    "## Setup\n",
    "\n",
    "First lets import they libraries we will need."
   ]
  },
  {
   "cell_type": "code",
   "execution_count": 1,
   "metadata": {},
   "outputs": [],
   "source": [
    "import matplotlib.pyplot as plt\n",
    "import torch\n",
    "import numpy as np\n",
    "from torchvision import datasets\n",
    "import torchvision.transforms as transforms\n",
    "import numpy as np\n",
    "import matplotlib.pyplot as plt\n",
    "import torch\n",
    "import torch.nn as nn\n",
    "import torch.nn.functional as F\n",
    "from tqdm import tqdm"
   ]
  },
  {
   "cell_type": "markdown",
   "metadata": {},
   "source": [
    "## Dataset"
   ]
  },
  {
   "cell_type": "markdown",
   "metadata": {},
   "source": [
    "We will use the CIFAR-10 dataset to finetune our classifier.  CIFAR-10 contains around 50,000 $32 \\times 32$ resolution images, each sorted into 1 of 10 classes.  This make it perfect for our task of finetuning a classifer."
   ]
  },
  {
   "cell_type": "code",
   "execution_count": 2,
   "metadata": {},
   "outputs": [
    {
     "name": "stdout",
     "output_type": "stream",
     "text": [
      "Files already downloaded and verified\n"
     ]
    }
   ],
   "source": [
    "# CIFAR-10 Dataset\n",
    "cifar_train_dataset = datasets.CIFAR10(root='./cifar_data/', train=True, transform=transforms.ToTensor(), download=True)\n",
    "cifar_test_dataset = datasets.CIFAR10(root='./cifar_data/', train=False, transform=transforms.ToTensor(), download=False)\n",
    "\n",
    "# Data Loader (Input Pipeline)\n",
    "bs = 100\n",
    "cifar_train_loader = torch.utils.data.DataLoader(dataset=cifar_train_dataset, batch_size=bs, shuffle=True)\n",
    "cifar_test_loader = torch.utils.data.DataLoader(dataset=cifar_test_dataset, batch_size=bs, shuffle=False)"
   ]
  },
  {
   "cell_type": "code",
   "execution_count": 4,
   "metadata": {},
   "outputs": [
    {
     "data": {
      "text/plain": [
       "Text(0.5, 0.98, 'CIFAR-10 Example Images')"
      ]
     },
     "execution_count": 4,
     "metadata": {},
     "output_type": "execute_result"
    },
    {
     "data": {
      "image/png": "[encoded data removed]",
      "text/plain": [
       "<Figure size 1000x200 with 5 Axes>"
      ]
     },
     "metadata": {},
     "output_type": "display_data"
    }
   ],
   "source": [
    "# Get one batch of training images\n",
    "dataiter = iter(cifar_train_loader)\n",
    "images, labels = next(dataiter)\n",
    "\n",
    "# Convert images to numpy for display\n",
    "images = images.numpy()\n",
    "\n",
    "# Display 5 images\n",
    "fig, axes = plt.subplots(1, 5, figsize=(10,2))\n",
    "for idx in np.arange(5):\n",
    "    axes[idx].imshow((np.transpose(images[idx], (1,2,0))))\n",
    "    axes[idx].axis('off')\n",
    "plt.suptitle('CIFAR-10 Example Images')"
   ]
  },
  {
   "cell_type": "markdown",
   "metadata": {},
   "source": [
    "## Classifier"
   ]
  },
  {
   "cell_type": "markdown",
   "metadata": {},
   "source": [
    "Now lets define our neural network.  For this we will download a ResNet-18 model (that means it contains 18 layers) that has been pretrained on ImageNet.  We will then swap out the final linear layers so that instead of classifying 1000 classes, it is classifying 10."
   ]
  },
  {
   "cell_type": "code",
   "execution_count": 5,
   "metadata": {},
   "outputs": [
    {
     "name": "stderr",
     "output_type": "stream",
     "text": [
      "Using cache found in C:\\Users\\hgm1g14/.cache\\torch\\hub\\pytorch_vision_v0.10.0\n",
      "c:\\Users\\hgm1g14\\AppData\\Local\\anaconda3\\Lib\\site-packages\\torchvision\\models\\_utils.py:208: UserWarning: The parameter 'pretrained' is deprecated since 0.13 and may be removed in the future, please use 'weights' instead.\n",
      "  warnings.warn(\n",
      "c:\\Users\\hgm1g14\\AppData\\Local\\anaconda3\\Lib\\site-packages\\torchvision\\models\\_utils.py:223: UserWarning: Arguments other than a weight enum or `None` for 'weights' are deprecated since 0.13 and may be removed in the future. The current behavior is equivalent to passing `weights=ResNet18_Weights.IMAGENET1K_V1`. You can also use `weights=ResNet18_Weights.DEFAULT` to get the most up-to-date weights.\n",
      "  warnings.warn(msg)\n"
     ]
    }
   ],
   "source": [
    "class CustomResNet(nn.Module):\n",
    "    def __init__(self):\n",
    "        super(CustomResNet, self).__init__()\n",
    "        \n",
    "        # Download ResNet18 model and replace last layer\n",
    "        self.resnet = torch.hub.load('pytorch/vision:v0.10.0', 'resnet18', pretrained=True)\n",
    "        self.resnet.fc = nn.Sequential(\n",
    "            nn.Linear(in_features=512, out_features=512),\n",
    "        )\n",
    "        self.resnet.eval()\n",
    "        \n",
    "        # Add a final MLP to be run after the ResNet18 model\n",
    "        self.final_layers = nn.Sequential(\n",
    "            nn.ReLU(),\n",
    "            nn.Linear(in_features=512, out_features=512),\n",
    "            nn.ReLU(),\n",
    "            nn.Linear(in_features=512, out_features=256),\n",
    "            nn.ReLU(),\n",
    "            nn.Linear(in_features=256, out_features=10),\n",
    "        )\n",
    "\n",
    "    def forward(self, x):\n",
    "        x = self.resnet(x)\n",
    "        pred = self.final_layers(x)\n",
    "        return pred\n",
    "    \n",
    "device = torch.device(\"cuda:0\" if torch.cuda.is_available() else \"cpu\")\n",
    "classifier = CustomResNet()\n",
    "classifier = classifier.to(device)"
   ]
  },
  {
   "cell_type": "markdown",
   "metadata": {},
   "source": [
    "## Training"
   ]
  },
  {
   "cell_type": "markdown",
   "metadata": {},
   "source": [
    "Now lets train ours model, making sure to track the validation loss and accuracy through out.  As is standard for classifiers, we will use binary cross entropy loss."
   ]
  },
  {
   "cell_type": "code",
   "execution_count": 6,
   "metadata": {},
   "outputs": [
    {
     "name": "stderr",
     "output_type": "stream",
     "text": [
      "100%|██████████| 500/500 [00:10<00:00, 47.84it/s]\n"
     ]
    },
    {
     "name": "stdout",
     "output_type": "stream",
     "text": [
      "Epoch: 0 - Training Loss: 0.21754831951856612\n"
     ]
    },
    {
     "name": "stderr",
     "output_type": "stream",
     "text": [
      "100%|██████████| 100/100 [00:01<00:00, 77.25it/s]\n"
     ]
    },
    {
     "name": "stdout",
     "output_type": "stream",
     "text": [
      "Epoch: 0 - Validation Loss: 0.14826874129474163\n",
      "Validation Set Accuracy: 68.26 %\n"
     ]
    },
    {
     "name": "stderr",
     "output_type": "stream",
     "text": [
      "100%|██████████| 500/500 [00:10<00:00, 49.27it/s]\n"
     ]
    },
    {
     "name": "stdout",
     "output_type": "stream",
     "text": [
      "Epoch: 1 - Training Loss: 0.1259953627586365\n"
     ]
    },
    {
     "name": "stderr",
     "output_type": "stream",
     "text": [
      "100%|██████████| 100/100 [00:01<00:00, 75.81it/s]\n"
     ]
    },
    {
     "name": "stdout",
     "output_type": "stream",
     "text": [
      "Epoch: 1 - Validation Loss: 0.1282355224341154\n",
      "Validation Set Accuracy: 73.71 %\n"
     ]
    },
    {
     "name": "stderr",
     "output_type": "stream",
     "text": [
      "100%|██████████| 500/500 [00:10<00:00, 48.83it/s]\n"
     ]
    },
    {
     "name": "stdout",
     "output_type": "stream",
     "text": [
      "Epoch: 2 - Training Loss: 0.10442508803308011\n"
     ]
    },
    {
     "name": "stderr",
     "output_type": "stream",
     "text": [
      "100%|██████████| 100/100 [00:01<00:00, 74.69it/s]\n"
     ]
    },
    {
     "name": "stdout",
     "output_type": "stream",
     "text": [
      "Epoch: 2 - Validation Loss: 0.10963922142982482\n",
      "Validation Set Accuracy: 77.75 %\n"
     ]
    },
    {
     "name": "stderr",
     "output_type": "stream",
     "text": [
      "100%|██████████| 500/500 [00:10<00:00, 49.00it/s]\n"
     ]
    },
    {
     "name": "stdout",
     "output_type": "stream",
     "text": [
      "Epoch: 3 - Training Loss: 0.08783335307240486\n"
     ]
    },
    {
     "name": "stderr",
     "output_type": "stream",
     "text": [
      "100%|██████████| 100/100 [00:01<00:00, 75.42it/s]"
     ]
    },
    {
     "name": "stdout",
     "output_type": "stream",
     "text": [
      "Epoch: 3 - Validation Loss: 0.10934578128159046\n",
      "Validation Set Accuracy: 78.3 %\n"
     ]
    },
    {
     "name": "stderr",
     "output_type": "stream",
     "text": [
      "\n"
     ]
    }
   ],
   "source": [
    "# Hyperparameters\n",
    "epochs  = 4\n",
    "total_classes = 10\n",
    "learning_rate = 0.0001\n",
    "\n",
    "# Training loop objects\n",
    "loss_bce = torch.nn.BCEWithLogitsLoss()\n",
    "optimizer = torch.optim.Adam(classifier.parameters(), lr=learning_rate)\n",
    "\n",
    "# Define loss history objects\n",
    "train_losses = []\n",
    "validation_losses = []\n",
    "\n",
    "# Main training loop\n",
    "for e in range(epochs):\n",
    "    \n",
    "    # TRAINING\n",
    "    epoch_train_losses = []\n",
    "    for i, data in tqdm(enumerate(cifar_train_loader), total=len(cifar_train_loader)):\n",
    "        # Every data instance is an input + label pair\n",
    "        images, labels = data\n",
    "        one_hot_labels = F.one_hot(labels, total_classes)\n",
    "        images, one_hot_labels = images.to(device), one_hot_labels.to(device)\n",
    "\n",
    "        # Zero your gradients for every batch!\n",
    "        optimizer.zero_grad()\n",
    "\n",
    "        # Make predictions for this batch\n",
    "        preds  = classifier(images.float())\n",
    "        \n",
    "        # Compute the loss and its gradients\n",
    "        loss = loss_bce(preds, one_hot_labels.float())\n",
    "        epoch_train_losses.append(loss.item()) # Save results\n",
    "        loss.backward()\n",
    "\n",
    "        # Adjust learning weights\n",
    "        optimizer.step()\n",
    "        \n",
    "    # Save and print loss\n",
    "    train_losses.append(sum(epoch_train_losses) / len(epoch_train_losses))\n",
    "    print(\"Epoch:\", e, \"- Training Loss:\", train_losses[-1])\n",
    "\n",
    "    # VALIDATION\n",
    "    epoch_validation_losses = []\n",
    "    validation_predicted_labels = np.array([])\n",
    "    validation_ground_truth_labels = np.array([])\n",
    "    for i, data in tqdm(enumerate(cifar_test_loader), total=len(cifar_test_loader)):\n",
    "                # Every data instance is an input + label pair\n",
    "        images, labels = data\n",
    "        one_hot_labels = F.one_hot(labels, total_classes)\n",
    "        images, one_hot_labels = images.to(device), one_hot_labels.to(device)\n",
    "\n",
    "        # Zero your gradients for every batch!\n",
    "        optimizer.zero_grad()\n",
    "\n",
    "        # Make predictions for this batch\n",
    "        preds  = classifier(images.float())\n",
    "        \n",
    "        # Compute the loss and its gradients\n",
    "        loss = loss_bce(preds, one_hot_labels.float())\n",
    "        epoch_validation_losses.append(loss.item())\n",
    "        \n",
    "        # Save results\n",
    "        validation_predicted_labels = np.concatenate((validation_predicted_labels, torch.argmax(preds, dim=1).cpu().detach()))\n",
    "        validation_ground_truth_labels = np.concatenate((validation_ground_truth_labels, torch.argmax(one_hot_labels, dim=1).cpu().detach()))   \n",
    "    \n",
    "    validation_losses.append(sum(epoch_validation_losses) / len(epoch_validation_losses))\n",
    "    print(\"Epoch:\", e, \"- Validation Loss:\", validation_losses[-1])\n",
    "    print('Validation Set Accuracy:', ((len(validation_ground_truth_labels) - np.count_nonzero(validation_predicted_labels - validation_ground_truth_labels)) / len(validation_ground_truth_labels)) * 100, '%')\n",
    "    "
   ]
  },
  {
   "cell_type": "markdown",
   "metadata": {},
   "source": [
    "Finally, lets plot our loss curves."
   ]
  },
  {
   "cell_type": "code",
   "execution_count": 11,
   "metadata": {},
   "outputs": [
    {
     "data": {
      "text/plain": [
       "Text(0.5, 1.0, 'CIFAR-10 Classification Training Loss')"
      ]
     },
     "execution_count": 11,
     "metadata": {},
     "output_type": "execute_result"
    },
    {
     "data": {
      "image/png": "[encoded data removed]",
      "text/plain": [
       "<Figure size 640x480 with 1 Axes>"
      ]
     },
     "metadata": {},
     "output_type": "display_data"
    }
   ],
   "source": [
    "plt.plot(train_losses, label=\"Training Loss\")\n",
    "plt.plot(validation_losses, label=\"Validation Loss\")\n",
    "plt.xlabel('Epochs')\n",
    "plt.ylabel('Loss')\n",
    "plt.legend()\n",
    "plt.title('CIFAR-10 Classification Training Loss')"
   ]
  },
  {
   "cell_type": "code",
   "execution_count": null,
   "metadata": {},
   "outputs": [],
   "source": []
  }
 ],
 "metadata": {
  "kernelspec": {
   "display_name": "base",
   "language": "python",
   "name": "python3"
  },
  "language_info": {
   "codemirror_mode": {
    "name": "ipython",
    "version": 3
   },
   "file_extension": ".py",
   "mimetype": "text/x-python",
   "name": "python",
   "nbconvert_exporter": "python",
   "pygments_lexer": "ipython3",
   "version": "3.11.7"
  }
 },
 "nbformat": 4,
 "nbformat_minor": 2
}
