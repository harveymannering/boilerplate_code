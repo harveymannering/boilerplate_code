{
  "cells": [
    {
      "cell_type": "markdown",
      "metadata": {
        "id": "ZzXMxN_0HJxF"
      },
      "source": [
        "## Autoregressive Models"
      ]
    },
    {
      "cell_type": "markdown",
      "metadata": {},
      "source": [
        "An autoregressive model works on sequential data, learning the probability of the next token given the previous tokens. Mathematically, we can say that the autoregressive model is trying to find the probability distribution $p(x_t|x_{t-1}, x_{t-2},...,x_{0})$ where $x_t$ is the token at timestep $t$. Autoregressive models are therefore well-suited for predicting text. For example, given the sentence\n",
        "\n",
        ">no use crying over spilled _\n",
        "\n",
        "an autoregressive model should assign a high probability that \"milk\" is the next word and assign a lower probability that \"water\" is the next word.\n",
        "\n",
        "However, autoregressive models can also be applied to images. A popular example of this is [PixelCNN](https://arxiv.org/abs/1601.06759). The model works by treating an image as a sequence of pixels and then generating new images one pixel at a time, conditioned on all pixels generated already. This notebook implements a simple PixelCNN model using the MNIST dataset and explains each step."
      ]
    },
    {
      "cell_type": "code",
      "execution_count": 51,
      "metadata": {
        "id": "gfOSTrX_HJxK"
      },
      "outputs": [],
      "source": [
        "# import libraries\n",
        "import numpy as np\n",
        "import torch\n",
        "import torch.nn as nn\n",
        "from torchvision import transforms\n",
        "from torch.autograd import Variable\n",
        "import matplotlib.pyplot as plt\n",
        "from torchvision.datasets import MNIST"
      ]
    },
    {
      "cell_type": "markdown",
      "metadata": {
        "id": "pLLyctPuHJxL"
      },
      "source": [
        "## Model"
      ]
    },
    {
      "cell_type": "markdown",
      "metadata": {},
      "source": [
        "Key to PixelCNN's success is the Masked Convolutional Layer. This essentially works in the same way as a normal convolution, except that all elements after the center value (meaning all elements below or to the right and in line with the center value) are set to zero. This is done by element-wise multiplying a mask full of 1's and 0's, as seen in the plot below. This means that convolutions can only make use of pixels above and to the left of a given center pixel."
      ]
    },
    {
      "cell_type": "code",
      "execution_count": 52,
      "metadata": {
        "id": "TqCSmx_646VC"
      },
      "outputs": [],
      "source": [
        "class MaskedConvLayer(nn.Module):\n",
        "    def __init__(self, in_channels, out_channels, kernel_size, stride, mask_type):\n",
        "        super().__init__()\n",
        "        # Save which type of MaskedConvLayer we are using: 'A' or 'B'\n",
        "        self.mask_type = mask_type\n",
        "\n",
        "        # Create a normal convolution layer\n",
        "        self.conv = nn.Conv2d(in_channels, out_channels, kernel_size, stride, padding=kernel_size//2)\n",
        "\n",
        "        # Create a binary mask that will be applied to the weights of the conv layer\n",
        "        kernel_shape = self.conv.weight.shape\n",
        "        self.mask = torch.zeros(kernel_shape)\n",
        "        self.mask[:, :, :kernel_shape[2] // 2, :] = 1.0\n",
        "        self.mask[:, :, kernel_shape[2] // 2, :kernel_shape[3] // 2] = 1.0\n",
        "        if self.mask_type == \"B\":\n",
        "            self.mask[:, :, kernel_shape[2] // 2, kernel_shape[3] // 2] = 1.0\n",
        "\n",
        "    def forward(self, image):\n",
        "        # Mask out the weights\n",
        "        device = next(self.parameters()).device\n",
        "        self.conv.weight.data = self.conv.weight * self.mask.to(device)\n",
        "\n",
        "        # Run image through the convolution layer\n",
        "        return self.conv(image)"
      ]
    },
    {
      "cell_type": "markdown",
      "metadata": {},
      "source": [
        "There are two types of masks used in a masked convolution layer: type A and type B. In type A, the center pixel is not masked, whereas in type B, the center pixel is masked. Type A will be used at the start of the network. The center pixel is set to zeros because that is the pixel we want to predict. However, after the first layer, we no longer need to mask out the middle pixel because we have already restricted the prediction to not include the center pixel's original value. Therefore the rest of the network uses type B masked convolution layer."
      ]
    },
    {
      "cell_type": "code",
      "execution_count": 53,
      "metadata": {
        "colab": {
          "base_uri": "https://localhost:8080/",
          "height": 367
        },
        "id": "2PinLI-FOUUn",
        "outputId": "2aaee436-3594-478c-e3fc-d5510455e10f"
      },
      "outputs": [
        {
          "data": {
            "image/png": "[encoded data removed]",
            "text/plain": [
              "<Figure size 800x400 with 2 Axes>"
            ]
          },
          "metadata": {},
          "output_type": "display_data"
        }
      ],
      "source": [
        "# Create Masked Convolutional Layers of both types\n",
        "mask_size = 5\n",
        "masked_conv_A = MaskedConvLayer(1, 16, mask_size, 1, 'A')\n",
        "masked_conv_B = MaskedConvLayer(1, 16, mask_size, 1, 'B')\n",
        "masked_conv_layers = [masked_conv_A, masked_conv_B]\n",
        "\n",
        "# Plot the masks used in these convolutional layers\n",
        "fig, ax = plt.subplots(1, 2, figsize=(8, 4))\n",
        "for layer_idx, masked_layer in enumerate(masked_conv_layers):\n",
        "    for i in range(mask_size):\n",
        "        for j in range(mask_size):\n",
        "            cell_value = masked_layer.mask[0, 0, i, j].item()\n",
        "            ax[layer_idx].text(j + 0.5, mask_size - i - 0.5, str(int(cell_value)), ha='center', va='center', fontsize=12, color='black' if cell_value == 0 else 'black')\n",
        "            ax[layer_idx].fill_between([j, j + 1], mask_size - i - 1, mask_size - i, color='lightblue' if cell_value == 0 else 'blue')\n",
        "    ax[layer_idx].axis('off')\n",
        "    ax[layer_idx].set_title('Mask ' + masked_layer.mask_type)\n",
        "\n"
      ]
    },
    {
      "cell_type": "markdown",
      "metadata": {
        "id": "dUEqM1cJOUUo"
      },
      "source": [
        "Next, we create a Residual Block. This module includes convolutional layers and also adds the original input to the final output. This structure solves the vanishing and exploding gradients problem and allows for the creation of deeper (and therefore more powerful) neural networks."
      ]
    },
    {
      "cell_type": "code",
      "execution_count": 54,
      "metadata": {
        "id": "SBl1-ZTkzffG"
      },
      "outputs": [],
      "source": [
        "class ResidualBlock(nn.Module):\n",
        "    def __init__(self, channels):\n",
        "        super().__init__()\n",
        "\n",
        "        # Create a residual block with a masked convolution in the middle\n",
        "        middle_channels = channels // 2\n",
        "        self.res_block = nn.Sequential(\n",
        "            nn.Conv2d(channels, middle_channels, 1),\n",
        "            nn.ReLU(),\n",
        "            MaskedConvLayer(middle_channels, middle_channels, 3, 1, 'B'),\n",
        "            nn.ReLU(),\n",
        "            nn.Conv2d(middle_channels, channels, 1),\n",
        "            nn.ReLU(),\n",
        "        )\n",
        "\n",
        "    def forward(self, input):\n",
        "        # Pass image though convolutional layers\n",
        "        x = self.res_block(input)\n",
        "\n",
        "        # Elementwise addition of input to the result\n",
        "        return x + input"
      ]
    },
    {
      "cell_type": "markdown",
      "metadata": {},
      "source": [
        "Finally, we create the overall PixelCNN architecture. This is a relatively simple combination of masked convolution layers and residual blocks, with ReLUs used for activations. To enhance the quality of the images produced, we also include an embedding layer with 10 options, one for each digit. This allows us to specify which digit we want."
      ]
    },
    {
      "cell_type": "code",
      "execution_count": 55,
      "metadata": {
        "id": "yH7a1P6728dB"
      },
      "outputs": [],
      "source": [
        "class PixelCNN(nn.Module):\n",
        "    def __init__(self, in_channels, out_channels):\n",
        "        super().__init__()\n",
        "\n",
        "        # Embedding layer with possible 10 embeddings, which are all vectors of length 784\n",
        "        self.embedding = nn.Embedding(10, 784)\n",
        "\n",
        "        # Initial convolution layer\n",
        "        self.res_block = nn.Sequential(\n",
        "            MaskedConvLayer(in_channels, out_channels, 7, 1, 'A'),\n",
        "            nn.ReLU(),\n",
        "        )\n",
        "\n",
        "        # Residual layers\n",
        "        r_layers = []\n",
        "        for i in range(6):\n",
        "            r_layers.append(ResidualBlock(out_channels))\n",
        "        self.residual_layers = nn.Sequential(*r_layers)\n",
        "\n",
        "        # Add masked layers that act as dense layers\n",
        "        d_layers = []\n",
        "        for i in range(6):\n",
        "            d_layers.append(MaskedConvLayer(out_channels, out_channels, 1, 1, 'B'))\n",
        "            d_layers.append(nn.ReLU())\n",
        "        self.dense_layers = nn.Sequential(*d_layers)\n",
        "\n",
        "        # Final convolutional layer\n",
        "        self.output_conv = nn.Sequential(\n",
        "            nn.Dropout2d(0.5),\n",
        "            MaskedConvLayer(out_channels, 4, 1, 1, 'B'),\n",
        "            #nn.LogSoftmax(dim=1),\n",
        "        )\n",
        "\n",
        "    def forward(self, image, label):\n",
        "        # Embedding\n",
        "        emb = self.embedding(label)\n",
        "        emb = torch.reshape(emb, image.shape)\n",
        "\n",
        "        # Run input through PixelCNN layers\n",
        "        x1 = self.res_block(image)\n",
        "        x2 = self.residual_layers(x1 + emb)\n",
        "        x3 = self.dense_layers(x2 + emb)\n",
        "        x4 = self.output_conv(x3 + emb)\n",
        "        return x4"
      ]
    },
    {
      "cell_type": "markdown",
      "metadata": {
        "id": "RU92t1HXHJxP"
      },
      "source": [
        "## Data"
      ]
    },
    {
      "cell_type": "markdown",
      "metadata": {
        "id": "ECO0Yq0eHJxP"
      },
      "source": [
        "In this example we will use the MNIST dataset, which contains 60000 training images and 10000 testing images of handwritten digits. Let's download and plot some examples from the training data."
      ]
    },
    {
      "cell_type": "code",
      "execution_count": 56,
      "metadata": {
        "colab": {
          "base_uri": "https://localhost:8080/",
          "height": 279
        },
        "id": "1gF3n4PpHJxP",
        "outputId": "9f15e535-23f9-464c-c323-6bc6ebb43df0"
      },
      "outputs": [
        {
          "data": {
            "text/plain": [
              "<matplotlib.image.AxesImage at 0x7b2cbccaa8c0>"
            ]
          },
          "execution_count": 56,
          "metadata": {},
          "output_type": "execute_result"
        },
        {
          "data": {
            "image/png": "[encoded data removed]",
            "text/plain": [
              "<Figure size 1200x250 with 5 Axes>"
            ]
          },
          "metadata": {},
          "output_type": "display_data"
        }
      ],
      "source": [
        "# Are we using the CPU or the GPU?\n",
        "device = \"cuda\" if torch.cuda.is_available() else \"cpu\"\n",
        "\n",
        "# Transforms to be applied to all images in the dataset\n",
        "tf = transforms.Compose(\n",
        "    [transforms.ToTensor()]\n",
        ")\n",
        "\n",
        "# Download/setup the MNIST dataset\n",
        "dataset = MNIST(\n",
        "    \"./data\",\n",
        "    train=True,\n",
        "    download=True,\n",
        "    transform=tf,\n",
        ")\n",
        "\n",
        "# Plot examples\n",
        "fig, ax= plt.subplots(1, 5, figsize=(12, 2.5))\n",
        "fig.suptitle('MNIST Examples')\n",
        "ax[0].imshow(dataset[0][0][0,:,:].numpy())\n",
        "ax[1].imshow(dataset[1][0][0,:,:].numpy())\n",
        "ax[2].imshow(dataset[2][0][0,:,:].numpy())\n",
        "ax[3].imshow(dataset[3][0][0,:,:].numpy())\n",
        "ax[4].imshow(dataset[4][0][0,:,:].numpy())\n"
      ]
    },
    {
      "cell_type": "markdown",
      "metadata": {
        "id": "mLeHkyNtHJxQ"
      },
      "source": [
        "## Training"
      ]
    },
    {
      "cell_type": "markdown",
      "metadata": {},
      "source": [
        "You may have noticed that PixelCNN has 4 output channels, where as MNIST images only have 1 channel.  This is because we have designed to model to select 1 of 4 possible values.  This is implemented by quantizing the original MNIST images into 4 non-overlapping binary images as seen below.  The first images contains 1's where ever there are pixel values between 0 and 0.25 (and zeros everywhere else), the second images contains 1's where ever there are pixels between 0.25 and 0.5, and so on."
      ]
    },
    {
      "cell_type": "markdown",
      "metadata": {},
      "source": [
        "You may have noticed that PixelCNN has 4 output channels, whereas MNIST images only have 1 channel. This is because we have designed the model to select 1 of 4 possible values. This is implemented by quantizing the original MNIST images into 4 non-overlapping binary images, as seen below. The first image contains 1's wherever there are pixel values between 0 and 0.25 (and zeros everywhere else), the second image contains 1's wherever there are pixels between 0.25 and 0.5, and so on."
      ]
    },
    {
      "cell_type": "code",
      "execution_count": 57,
      "metadata": {
        "colab": {
          "base_uri": "https://localhost:8080/",
          "height": 243
        },
        "id": "7JnKEekmQVZc",
        "outputId": "b4d73a92-b739-4e19-c3ae-0f1bd91f16db"
      },
      "outputs": [
        {
          "data": {
            "image/png": "[encoded data removed]",
            "text/plain": [
              "<Figure size 1200x250 with 5 Axes>"
            ]
          },
          "metadata": {},
          "output_type": "display_data"
        }
      ],
      "source": [
        "def binarize(img, min, max):\n",
        "    # Set anything below the minimum threshold to 2\n",
        "    img = torch.where(img < min, 2 * torch.ones_like(img), img)\n",
        "\n",
        "    # Set anything above the max threshold to 0, set everything else to 1\n",
        "    img = torch.where(img < max, torch.ones_like(img), torch.zeros_like(img))\n",
        "\n",
        "    return img\n",
        "\n",
        "# Quantize source image into 4 binary channels\n",
        "quantization_total = 4\n",
        "interval = 1 / quantization_total\n",
        "target = dataset[0][0][0,:,:].repeat(1, quantization_total, 1, 1)\n",
        "for i in range(quantization_total):\n",
        "    target[:,i,:,:] = binarize(target[:,i,:,:], min=i*interval, max=(i+1)*interval)\n",
        "\n",
        "# Image original image\n",
        "fig, ax= plt.subplots(1, 5, figsize=(12, 2.5))\n",
        "ax[0].imshow(dataset[0][0][0,:,:].numpy())\n",
        "ax[0].set_title('Source Image')\n",
        "\n",
        "# Plot quantized images\n",
        "for i in range(quantization_total):\n",
        "    ax[i+1].imshow(target[0,i,:,:].numpy())\n",
        "    ax[i+1].set_title('Range (' + str(i*interval) + ',' + str((i+1)*interval) + ')')"
      ]
    },
    {
      "cell_type": "markdown",
      "metadata": {
        "id": "LbOmbd0sHJxS"
      },
      "source": [
        "This is the main training loop.  It takes a couple of hours to run on Google Colab.  For the loss, cross entropy is used.  The optimization algorithm used is Adam."
      ]
    },
    {
      "cell_type": "code",
      "execution_count": 58,
      "metadata": {
        "colab": {
          "base_uri": "https://localhost:8080/"
        },
        "id": "2Uk2swiEHJxS",
        "outputId": "773e6c33-0d25-43df-ca06-c6010e8adb8b"
      },
      "outputs": [
        {
          "name": "stdout",
          "output_type": "stream",
          "text": [
            "Epoch [1/100], Loss:109.5684\n",
            "Epoch [2/100], Loss:65.4990\n",
            "Epoch [3/100], Loss:59.8434\n",
            "Epoch [4/100], Loss:56.7249\n",
            "Epoch [5/100], Loss:55.5185\n",
            "Epoch [6/100], Loss:54.7662\n",
            "Epoch [7/100], Loss:53.5193\n",
            "Epoch [8/100], Loss:53.0635\n",
            "Epoch [9/100], Loss:52.5953\n",
            "Epoch [10/100], Loss:52.3609\n",
            "Epoch [11/100], Loss:52.3289\n",
            "Epoch [12/100], Loss:51.6143\n",
            "Epoch [13/100], Loss:51.5144\n",
            "Epoch [14/100], Loss:51.0194\n",
            "Epoch [15/100], Loss:50.9799\n",
            "Epoch [16/100], Loss:50.6173\n",
            "Epoch [17/100], Loss:50.4095\n",
            "Epoch [18/100], Loss:50.4168\n",
            "Epoch [19/100], Loss:49.9764\n",
            "Epoch [20/100], Loss:49.8996\n",
            "Epoch [21/100], Loss:49.5227\n",
            "Epoch [22/100], Loss:49.2353\n",
            "Epoch [23/100], Loss:49.0828\n",
            "Epoch [24/100], Loss:48.8637\n",
            "Epoch [25/100], Loss:48.6948\n",
            "Epoch [26/100], Loss:48.4842\n",
            "Epoch [27/100], Loss:48.9617\n",
            "Epoch [28/100], Loss:48.2226\n",
            "Epoch [29/100], Loss:48.0665\n",
            "Epoch [30/100], Loss:47.9189\n",
            "Epoch [31/100], Loss:47.8433\n",
            "Epoch [32/100], Loss:47.6541\n",
            "Epoch [33/100], Loss:47.5281\n",
            "Epoch [34/100], Loss:47.3819\n",
            "Epoch [35/100], Loss:47.3034\n",
            "Epoch [36/100], Loss:47.1908\n",
            "Epoch [37/100], Loss:47.0613\n",
            "Epoch [38/100], Loss:46.9149\n",
            "Epoch [39/100], Loss:46.8435\n",
            "Epoch [40/100], Loss:46.7496\n",
            "Epoch [41/100], Loss:46.6468\n",
            "Epoch [42/100], Loss:46.5372\n",
            "Epoch [43/100], Loss:46.3984\n",
            "Epoch [44/100], Loss:46.3546\n",
            "Epoch [45/100], Loss:46.2730\n",
            "Epoch [46/100], Loss:46.1571\n",
            "Epoch [47/100], Loss:46.0826\n",
            "Epoch [48/100], Loss:45.9802\n",
            "Epoch [49/100], Loss:45.9056\n",
            "Epoch [50/100], Loss:45.8213\n",
            "Epoch [51/100], Loss:45.7514\n",
            "Epoch [52/100], Loss:45.6761\n",
            "Epoch [53/100], Loss:45.5952\n",
            "Epoch [54/100], Loss:45.4805\n",
            "Epoch [55/100], Loss:45.4589\n",
            "Epoch [56/100], Loss:45.3838\n",
            "Epoch [57/100], Loss:45.3207\n",
            "Epoch [58/100], Loss:45.2911\n",
            "Epoch [59/100], Loss:45.1672\n",
            "Epoch [60/100], Loss:45.1635\n",
            "Epoch [61/100], Loss:45.0887\n",
            "Epoch [62/100], Loss:44.9637\n",
            "Epoch [63/100], Loss:44.9431\n",
            "Epoch [64/100], Loss:44.9022\n",
            "Epoch [65/100], Loss:44.8134\n",
            "Epoch [66/100], Loss:44.8484\n",
            "Epoch [67/100], Loss:44.7429\n",
            "Epoch [68/100], Loss:44.6677\n",
            "Epoch [69/100], Loss:44.5882\n",
            "Epoch [70/100], Loss:44.5433\n",
            "Epoch [71/100], Loss:44.5416\n",
            "Epoch [72/100], Loss:44.4820\n",
            "Epoch [73/100], Loss:44.4180\n",
            "Epoch [74/100], Loss:44.3503\n",
            "Epoch [75/100], Loss:44.3525\n",
            "Epoch [76/100], Loss:44.2562\n",
            "Epoch [77/100], Loss:44.2487\n",
            "Epoch [78/100], Loss:44.2204\n",
            "Epoch [79/100], Loss:44.1651\n",
            "Epoch [80/100], Loss:44.1839\n",
            "Epoch [81/100], Loss:44.3104\n",
            "Epoch [82/100], Loss:44.0649\n",
            "Epoch [83/100], Loss:44.0287\n",
            "Epoch [84/100], Loss:43.9846\n",
            "Epoch [85/100], Loss:43.9643\n",
            "Epoch [86/100], Loss:43.9093\n",
            "Epoch [87/100], Loss:43.8884\n",
            "Epoch [88/100], Loss:43.8389\n",
            "Epoch [89/100], Loss:43.8305\n",
            "Epoch [90/100], Loss:43.7791\n",
            "Epoch [91/100], Loss:43.7532\n",
            "Epoch [92/100], Loss:43.7310\n",
            "Epoch [93/100], Loss:43.7165\n",
            "Epoch [94/100], Loss:43.6679\n",
            "Epoch [95/100], Loss:43.6426\n",
            "Epoch [96/100], Loss:43.6481\n",
            "Epoch [97/100], Loss:43.6035\n",
            "Epoch [98/100], Loss:43.5644\n",
            "Epoch [99/100], Loss:43.5610\n",
            "Epoch [100/100], Loss:43.5208\n"
          ]
        }
      ],
      "source": [
        "# Create the PixelCNN neural network\n",
        "features = 256 # IF YOU RUN OUT OF MEMORY, LOWER THIS NUMBER\n",
        "pixel_cnn = PixelCNN(1, features).to(device)\n",
        "\n",
        "# Define loss function\n",
        "ce_loss = nn.CrossEntropyLoss()\n",
        "\n",
        "# Define hyperparameters\n",
        "num_epochs = 100\n",
        "batch_size = 128\n",
        "learning_rate = 0.001\n",
        "\n",
        "# Define optimiser and dataset objects\n",
        "optimizer = torch.optim.Adam(pixel_cnn.parameters(), lr=learning_rate)\n",
        "dataloader = torch.utils.data.DataLoader(dataset, batch_size=batch_size, shuffle=True)\n",
        "\n",
        "# Loss history arrays\n",
        "loss_history = []\n",
        "\n",
        "# Training loop\n",
        "for epoch in range(num_epochs):\n",
        "    # Reset total loss trackers\n",
        "    total_loss = 0\n",
        "\n",
        "    # Iterate over all MNIST dataset items\n",
        "    for data in dataloader:\n",
        "        # Load a batch of MNIST data in to memory\n",
        "        img = Variable(data[0])\n",
        "        label = Variable(data[1])\n",
        "        img = img.to(device)\n",
        "        label = label.to(device)\n",
        "\n",
        "        # Quantize MNIST image into 4 binary images as shown in the cell above\n",
        "        target = img.repeat(1, 4, 1, 1)\n",
        "        target[:,0,:,:] = binarize(target[:,0,:,:], min=0, max=0.25)\n",
        "        target[:,1,:,:] = binarize(target[:,1,:,:], min=0.25, max=0.5)\n",
        "        target[:,2,:,:] = binarize(target[:,2,:,:], min=0.5, max=0.75)\n",
        "        target[:,3,:,:] = binarize(target[:,3,:,:], min=0.75, max=1)\n",
        "\n",
        "        # Forward Pass\n",
        "        out = pixel_cnn(img, label)\n",
        "\n",
        "        # Calculate loss\n",
        "        loss = ce_loss(out, target)\n",
        "        total_loss += loss.item()\n",
        "\n",
        "        # Backwards Pass\n",
        "        optimizer.zero_grad()\n",
        "        loss.backward()\n",
        "        optimizer.step()\n",
        "\n",
        "    # Save and print loss\n",
        "    loss_history.append(total_loss / len(dataset))\n",
        "    print('Epoch [{}/{}], Loss:{:.4f}'.format(epoch+1, num_epochs, total_loss))\n",
        "\n",
        "torch.save(pixel_cnn, 'checkpoint_pixel_cnn.pth')"
      ]
    },
    {
      "cell_type": "markdown",
      "metadata": {},
      "source": [
        "Plot the training loss for PixelCNN over 100 epochs."
      ]
    },
    {
      "cell_type": "code",
      "execution_count": 63,
      "metadata": {
        "colab": {
          "base_uri": "https://localhost:8080/",
          "height": 489
        },
        "id": "bn9Rx6EVG8Wa",
        "outputId": "881d4835-2e27-4cbf-a71a-4611f2f8506a"
      },
      "outputs": [
        {
          "data": {
            "text/plain": [
              "<matplotlib.legend.Legend at 0x7b2cbcc6e2c0>"
            ]
          },
          "execution_count": 63,
          "metadata": {},
          "output_type": "execute_result"
        },
        {
          "data": {
            "image/png": "[encoded data removed]",
            "text/plain": [
              "<Figure size 640x480 with 1 Axes>"
            ]
          },
          "metadata": {},
          "output_type": "display_data"
        }
      ],
      "source": [
        "plt.plot(loss_history, label='Training Loss')\n",
        "plt.xlabel(\"Epochs\")\n",
        "plt.ylabel(\"Average Epoch Loss\")\n",
        "plt.title(\"PixelCNN Loss\")\n",
        "plt.legend()"
      ]
    },
    {
      "cell_type": "markdown",
      "metadata": {
        "id": "cC3St3XiHJxS"
      },
      "source": [
        "## Sampling"
      ]
    },
    {
      "cell_type": "markdown",
      "metadata": {},
      "source": [
        "Sampling is done like so:\n",
        "1. Start with an image of all zeros.\n",
        "2. Iterate through all pixels, starting from the top-left corner:\n",
        "    - Run PixelCNN to get a probability distribution of possible values.\n",
        "    - Sample from this probability distribution to get a value for the current pixel.\n",
        "    - Repeat until all pixels have been predicted."
      ]
    },
    {
      "cell_type": "code",
      "execution_count": 66,
      "metadata": {
        "id": "B5BqUoinQIRV"
      },
      "outputs": [],
      "source": [
        "# Takes as input a probability vector a length 4 and chooses a random number \n",
        "# from 0 to 3 based on that probability vector\n",
        "def sample_from(probs, temperature):\n",
        "    probs -= np.min(probs)\n",
        "    probs = probs ** (1 / temperature)\n",
        "    probs = probs / np.sum(probs)\n",
        "    choice = np.random.choice(len(probs), p=probs)\n",
        "    return torch.tensor(choice)\n",
        "\n",
        "# Generate a single example, temperature controls how much randomness we want, \n",
        "# the lower the temperature the more consistent the results\n",
        "def generate(temperature, label):\n",
        "    # Start with an empty image\n",
        "    num_img = 1\n",
        "    generated_images = torch.zeros((num_img,1,28,28)).to(device)\n",
        "    batch, channel, rows, cols = generated_images.shape\n",
        "\n",
        "    # Predict 1 pixel at a time\n",
        "    for row in range(rows):\n",
        "        for col in range(cols):\n",
        "            probs = pixel_cnn(generated_images, label)\n",
        "            for b in range(num_img):\n",
        "                generated_images[b,0,row,col] = sample_from(\n",
        "                    probs[b,:,row,col].cpu().detach().numpy(),\n",
        "                    temperature\n",
        "                ) / 3\n",
        "\n",
        "    return generated_images"
      ]
    },
    {
      "cell_type": "markdown",
      "metadata": {},
      "source": [
        "Finally, we generate some example images.  For some variation we will try to generate images for digits 0, 1, 2, 3, and 4."
      ]
    },
    {
      "cell_type": "code",
      "execution_count": 68,
      "metadata": {
        "colab": {
          "base_uri": "https://localhost:8080/",
          "height": 262
        },
        "id": "svgFof_QVbvq",
        "outputId": "9c8c2054-8d35-45a8-9098-5a5fa8dd2815"
      },
      "outputs": [
        {
          "data": {
            "image/png": "[encoded data removed]",
            "text/plain": [
              "<Figure size 1200x250 with 5 Axes>"
            ]
          },
          "metadata": {},
          "output_type": "display_data"
        }
      ],
      "source": [
        "fig, ax= plt.subplots(1, 5, figsize=(12, 2.5))\n",
        "fig.suptitle('Generated Examples')\n",
        "for idx in range(5):\n",
        "    generated_image = generate(0.2, torch.tensor(idx).to(device))\n",
        "    ax[idx].imshow(generated_image[0,0].cpu().detach().numpy())"
      ]
    }
  ],
  "metadata": {
    "accelerator": "GPU",
    "colab": {
      "gpuType": "V100",
      "machine_shape": "hm",
      "provenance": []
    },
    "kernelspec": {
      "display_name": "Python 3",
      "name": "python3"
    },
    "language_info": {
      "codemirror_mode": {
        "name": "ipython",
        "version": 3
      },
      "file_extension": ".py",
      "mimetype": "text/x-python",
      "name": "python",
      "nbconvert_exporter": "python",
      "pygments_lexer": "ipython3",
      "version": "3.11.4"
    },
    "orig_nbformat": 4,
    "vscode": {
      "interpreter": {
        "hash": "670f56a09e544e4bbfbd6b5287e0e16c8302d350aabab9be44abb05d0d81374c"
      }
    }
  },
  "nbformat": 4,
  "nbformat_minor": 0
}
