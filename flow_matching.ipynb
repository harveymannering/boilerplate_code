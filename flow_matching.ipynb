{
  "cells": [
    {
      "cell_type": "markdown",
      "metadata": {
        "id": "ZzXMxN_0HJxF"
      },
      "source": [
        "## Flow Matching"
      ]
    },
    {
      "cell_type": "markdown",
      "metadata": {},
      "source": [
        "[Flow Matching](https://arxiv.org/abs/2210.02747) is a modification of diffusion models, so if you are unfamilar with diffusion check out the [diffusion notebook](https://github.com/harveymannering/GenerativeModelsFromScratch/blob/main/denoising_diffusion_probabilistic_models.ipynb) in [this repo](https://github.com/harveymannering/GenerativeModelsFromScratch).  Like diffusion, flow matching maps one distibution to another. "
      ]
    },
    {
      "cell_type": "code",
      "execution_count": 1,
      "metadata": {
        "id": "gfOSTrX_HJxK"
      },
      "outputs": [
        {
          "name": "stderr",
          "output_type": "stream",
          "text": [
            "c:\\Users\\hgm1g14\\AppData\\Local\\anaconda3\\envs\\torchenv\\lib\\site-packages\\diffusers\\utils\\outputs.py:63: UserWarning: torch.utils._pytree._register_pytree_node is deprecated. Please use torch.utils._pytree.register_pytree_node instead.\n",
            "  torch.utils._pytree._register_pytree_node(\n"
          ]
        }
      ],
      "source": [
        "# import libraries\n",
        "import numpy as np\n",
        "import torch\n",
        "import torch.nn as nn\n",
        "from torchvision import transforms\n",
        "from torch.autograd import Variable\n",
        "import matplotlib.pyplot as plt\n",
        "from torchvision.datasets import MNIST\n",
        "from diffusers import UNet2DModel\n",
        "from tqdm import tqdm\n",
        "from torchdyn.core import NeuralODE\n",
        "from torchcfm.conditional_flow_matching import *\n",
        "from torchcfm.models.models import *\n",
        "from torchcfm.utils import *"
      ]
    },
    {
      "cell_type": "markdown",
      "metadata": {
        "id": "pLLyctPuHJxL"
      },
      "source": [
        "## Model"
      ]
    },
    {
      "cell_type": "markdown",
      "metadata": {},
      "source": [
        "The neural network architectures we will use is a UNet with three downsampling blocks and three upsampling blocks.  We will creates this network using the diffusers library and you can change its archicture via the `config` variable.  For example, you change the depth of the network using the `layers_per_block` option, which controls the number of layer for each of the up/down blocks.\n",
        "\n",
        "This exact architecture is also commonly used for diffusion models."
      ]
    },
    {
      "cell_type": "code",
      "execution_count": 3,
      "metadata": {},
      "outputs": [],
      "source": [
        "# Define network structure and parameters\n",
        "config = {\n",
        "    '_class_name': 'UNet2DModel',\n",
        "    '_diffusers_version': '0.0.4',\n",
        "    'act_fn': 'silu',\n",
        "    'attention_head_dim': None,\n",
        "    'block_out_channels': [32, 64, 64],\n",
        "    'center_input_sample': False,\n",
        "    'down_block_types': ['DownBlock2D', 'AttnDownBlock2D', 'DownBlock2D'],\n",
        "    'downsample_padding': 0,\n",
        "    'flip_sin_to_cos': False,\n",
        "    'freq_shift': 1,\n",
        "    'in_channels': 1,\n",
        "    'layers_per_block': 8,\n",
        "    'mid_block_scale_factor': 1,\n",
        "    'norm_eps': 1e-06,\n",
        "    'norm_num_groups': 32,\n",
        "    'out_channels': 1,\n",
        "    'sample_size': 32,\n",
        "    'time_embedding_type': 'positional',\n",
        "    'up_block_types': ['UpBlock2D', 'AttnUpBlock2D', 'UpBlock2D']\n",
        "}\n",
        "\n",
        "# Create the neural network\n",
        "model = UNet2DModel.from_config(config)"
      ]
    },
    {
      "cell_type": "markdown",
      "metadata": {
        "id": "RU92t1HXHJxP"
      },
      "source": [
        "## Data"
      ]
    },
    {
      "cell_type": "markdown",
      "metadata": {
        "id": "ECO0Yq0eHJxP"
      },
      "source": [
        "In this example we will use the MNIST dataset, which contains 60000 training images and 10000 testing images of handwritten digits. Let's download and plot some examples from the training data."
      ]
    },
    {
      "cell_type": "code",
      "execution_count": 4,
      "metadata": {
        "colab": {
          "base_uri": "https://localhost:8080/",
          "height": 279
        },
        "id": "1gF3n4PpHJxP",
        "outputId": "9f15e535-23f9-464c-c323-6bc6ebb43df0"
      },
      "outputs": [
        {
          "data": {
            "text/plain": [
              "<matplotlib.image.AxesImage at 0x1c0c652dfd0>"
            ]
          },
          "execution_count": 4,
          "metadata": {},
          "output_type": "execute_result"
        },
        {
          "data": {
            "image/png": "[encoded data removed]",
            "text/plain": [
              "<Figure size 1200x250 with 5 Axes>"
            ]
          },
          "metadata": {},
          "output_type": "display_data"
        }
      ],
      "source": [
        "# Transforms to be applied to all images in the dataset\n",
        "tf = transforms.Compose(\n",
        "    [transforms.ToTensor()]\n",
        ")\n",
        "\n",
        "# Download/setup the MNIST dataset\n",
        "dataset = MNIST(\n",
        "    \"./data\",\n",
        "    train=True,\n",
        "    download=True,\n",
        "    transform=tf,\n",
        ")\n",
        "\n",
        "# Plot examples\n",
        "fig, ax= plt.subplots(1, 5, figsize=(12, 2.5))\n",
        "fig.suptitle('MNIST Examples')\n",
        "ax[0].imshow(dataset[0][0][0,:,:].numpy())\n",
        "ax[1].imshow(dataset[1][0][0,:,:].numpy())\n",
        "ax[2].imshow(dataset[2][0][0,:,:].numpy())\n",
        "ax[3].imshow(dataset[3][0][0,:,:].numpy())\n",
        "ax[4].imshow(dataset[4][0][0,:,:].numpy())\n"
      ]
    },
    {
      "cell_type": "markdown",
      "metadata": {
        "id": "mLeHkyNtHJxQ"
      },
      "source": [
        "## Training"
      ]
    },
    {
      "cell_type": "markdown",
      "metadata": {},
      "source": [
        "Our object is to map from a simple Gaussian distribution to a more complexe distribution, which in this case in the distribution of MNIST images.  To do this will follow a continuous path $p_t$ where $t$ represents time. The start and end of the path are denoted with $p_0$ and $p_1$ respectivly.  From $p_t$ we then generate a corresponding vector field $u_t$ which will then try to learn using a neural network $v_t$\n",
        "\n",
        "$$\\mathcal{L}_{\\text{FM}}(\\theta) = \\mathbb{E}_{t, p_t(x)} \\| v_t(x) - u_t(x) \\|^2 $$\n",
        "\n",
        "where $x$ is an image that has corrupted with noise and $\\theta$ are the parameters of out neural network.\n",
        "\n",
        "We cannot optimize this objective however, because computing $u_t$ is intractable.  Suprisingly, simply by conditioning $u_t$ on $x_1$ mean not only that we can now optimize the objective, but we will reach that same optima as the original objective.\n",
        "\n",
        "$$\\mathcal{L}_{\\text{CFM}}(\\theta) = \\mathbb{E}_{t, q(x_1),p_t(x|x_1)} \\| v_t(x) - u_t(x|x_1) \\|^2 $$\n",
        "\n",
        "where $q$ is our target distribution. For $t$ we uniformly sample between $0$ and $1$."
      ]
    },
    {
      "cell_type": "markdown",
      "metadata": {},
      "source": [
        "The simplest method of computing the vector field is simply using the following equation\n",
        "\n",
        "$$ u_t(x|x_1) = x_1 - x_0$$"
      ]
    },
    {
      "cell_type": "code",
      "execution_count": 5,
      "metadata": {},
      "outputs": [],
      "source": [
        "def compute_conditional_vector_field(x0, x1):\n",
        "    return x1 - x0"
      ]
    },
    {
      "cell_type": "markdown",
      "metadata": {},
      "source": [
        "Recall that $p_t$ describes our path from $x_0$ to $x_1$.  To be more precise, $p_t$ is a time dependent probability density function which can be modelled simply with a Gaussian distribution where $\\mu$ is a linear interpolation between $x_0$ and $x_1$, and $\\sigma$ is a small constant greater than $0$.\n",
        "\n",
        "$$ p_t(x|x_1) = \\mathcal{N}(x | tx_1 + (1 − t)x_0, \\sigma^2) $$"
      ]
    },
    {
      "cell_type": "code",
      "execution_count": 6,
      "metadata": {},
      "outputs": [],
      "source": [
        "def sample_conditional_pt(x0, x1, t, sigma):\n",
        "    t = t.reshape(-1, *([1] * (x0.dim() - 1)))\n",
        "    mu_t = t * x1 + (1 - t) * x0\n",
        "    epsilon = torch.randn_like(x0)\n",
        "    return mu_t + sigma * epsilon"
      ]
    },
    {
      "cell_type": "markdown",
      "metadata": {},
      "source": [
        "Now let's train out models.  Training will use the $\\mathcal{L}_{\\text{CFM}}$ loss function and use the following optimization process:\n",
        "\n",
        "\n",
        "1. $~~\\text{repeat}$\n",
        "2. $~~~~~~x_1 \\sim q(x_1)$\n",
        "3. $~~~~~~t \\sim \\text{Uniform}(0,1)$\n",
        "4. $~~~~~~x \\sim p_t(x|x_1)$\n",
        "5. $~~~~~~\\text{taking gradient descent step on}$\n",
        "6. $~~~~~~~~~~~∇_{θ}\\| v_t(x) - u_t(x|x_1) \\|^2$\n",
        "7. $~~~~~~\\text{until convergence}$\n",
        "\n",
        "Feel free to tune the hyper parameters.  If training is too long, try decreasing the `num_epochs` and in some scenarios decreasing the `batch_size` will help too.  However, both changes will lead to worse perfomance.  Training took me around 20 minutes on an NVIDIA GeForce 4060.\n"
      ]
    },
    {
      "cell_type": "code",
      "execution_count": 7,
      "metadata": {
        "colab": {
          "base_uri": "https://localhost:8080/"
        },
        "id": "2Uk2swiEHJxS",
        "outputId": "773e6c33-0d25-43df-ca06-c6010e8adb8b"
      },
      "outputs": [
        {
          "name": "stderr",
          "output_type": "stream",
          "text": [
            "  0%|          | 0/400 [00:00<?, ?it/s]c:\\Users\\hgm1g14\\AppData\\Local\\anaconda3\\envs\\torchenv\\lib\\site-packages\\diffusers\\models\\attention_processor.py:1244: UserWarning: 1Torch was not compiled with flash attention. (Triggered internally at C:\\cb\\pytorch_1000000000000\\work\\aten\\src\\ATen\\native\\transformers\\cuda\\sdp_utils.cpp:263.)\n",
            "  hidden_states = F.scaled_dot_product_attention(\n",
            "100%|██████████| 400/400 [01:48<00:00,  3.70it/s]\n"
          ]
        },
        {
          "name": "stdout",
          "output_type": "stream",
          "text": [
            "Epoch [1/10], Loss:0.0018\n"
          ]
        },
        {
          "name": "stderr",
          "output_type": "stream",
          "text": [
            "100%|██████████| 400/400 [01:46<00:00,  3.76it/s]\n"
          ]
        },
        {
          "name": "stdout",
          "output_type": "stream",
          "text": [
            "Epoch [2/10], Loss:0.0014\n"
          ]
        },
        {
          "name": "stderr",
          "output_type": "stream",
          "text": [
            "100%|██████████| 400/400 [01:46<00:00,  3.75it/s]\n"
          ]
        },
        {
          "name": "stdout",
          "output_type": "stream",
          "text": [
            "Epoch [3/10], Loss:0.0014\n"
          ]
        },
        {
          "name": "stderr",
          "output_type": "stream",
          "text": [
            "100%|██████████| 400/400 [01:46<00:00,  3.76it/s]\n"
          ]
        },
        {
          "name": "stdout",
          "output_type": "stream",
          "text": [
            "Epoch [4/10], Loss:0.0013\n"
          ]
        },
        {
          "name": "stderr",
          "output_type": "stream",
          "text": [
            "100%|██████████| 400/400 [01:46<00:00,  3.76it/s]\n"
          ]
        },
        {
          "name": "stdout",
          "output_type": "stream",
          "text": [
            "Epoch [5/10], Loss:0.0013\n"
          ]
        },
        {
          "name": "stderr",
          "output_type": "stream",
          "text": [
            "100%|██████████| 400/400 [01:46<00:00,  3.76it/s]\n"
          ]
        },
        {
          "name": "stdout",
          "output_type": "stream",
          "text": [
            "Epoch [6/10], Loss:0.0013\n"
          ]
        },
        {
          "name": "stderr",
          "output_type": "stream",
          "text": [
            "100%|██████████| 400/400 [01:46<00:00,  3.76it/s]\n"
          ]
        },
        {
          "name": "stdout",
          "output_type": "stream",
          "text": [
            "Epoch [7/10], Loss:0.0013\n"
          ]
        },
        {
          "name": "stderr",
          "output_type": "stream",
          "text": [
            "100%|██████████| 400/400 [01:46<00:00,  3.76it/s]\n"
          ]
        },
        {
          "name": "stdout",
          "output_type": "stream",
          "text": [
            "Epoch [8/10], Loss:0.0013\n"
          ]
        },
        {
          "name": "stderr",
          "output_type": "stream",
          "text": [
            "100%|██████████| 400/400 [01:46<00:00,  3.76it/s]\n"
          ]
        },
        {
          "name": "stdout",
          "output_type": "stream",
          "text": [
            "Epoch [9/10], Loss:0.0013\n"
          ]
        },
        {
          "name": "stderr",
          "output_type": "stream",
          "text": [
            "100%|██████████| 400/400 [01:51<00:00,  3.58it/s]"
          ]
        },
        {
          "name": "stdout",
          "output_type": "stream",
          "text": [
            "Epoch [10/10], Loss:0.0013\n"
          ]
        },
        {
          "name": "stderr",
          "output_type": "stream",
          "text": [
            "\n"
          ]
        }
      ],
      "source": [
        "# Are we using the CPU or the GPU?\n",
        "device = \"cuda\" if torch.cuda.is_available() else \"cpu\"\n",
        "model.to(device)\n",
        "\n",
        "# Define loss function\n",
        "mse_loss = nn.MSELoss()\n",
        "\n",
        "# Define hyperparameters\n",
        "num_epochs = 10\n",
        "batch_size = 150\n",
        "\n",
        "# Define optimiser and dataset objects\n",
        "optimizer = torch.optim.Adam(model.parameters())\n",
        "dataloader = torch.utils.data.DataLoader(dataset, batch_size=batch_size, shuffle=True)\n",
        "\n",
        "# Loss history arrays\n",
        "loss_history = []\n",
        "\n",
        "# Training loop\n",
        "for epoch in range(num_epochs):\n",
        "    # Reset total loss trackers\n",
        "    total_loss = 0\n",
        "\n",
        "    # Iterate over all MNIST dataset items\n",
        "    for step, data in tqdm(enumerate(dataloader), total=len(dataloader)):\n",
        "        # Load a batch of MNIST data in to memory\n",
        "        x1 = (Variable(data[0]) * 2) - 1\n",
        "        x1 = x1.to(device)\n",
        "\n",
        "        # Generate random Gaussian noise\n",
        "        x0 = torch.randn_like(x1)\n",
        "\n",
        "        # Generate random timesteps between 0 and 1000\n",
        "        t = torch.rand(x0.shape[0]).type_as(x0)\n",
        "\n",
        "        # Corrupt image with noise \n",
        "        xt = sample_conditional_pt(x0, x1, t, sigma=0.01)\n",
        "\n",
        "        # Sample a vector field which will be the target of our training\n",
        "        ut = compute_conditional_vector_field(x0, x1)\n",
        "\n",
        "        # - Forward pass -\n",
        "        # t should be between 0 and 1, however the architecture we are using was design to use t value between 0 and 1000, so we will multiply t by 1000 here only \n",
        "        vt = model(xt, t * 1000)['sample']\n",
        "\n",
        "        # Calculate means square error loss\n",
        "        loss = torch.mean((vt - ut) ** 2)\n",
        "        total_loss += loss.item()\n",
        "\n",
        "        # Backwards Pass\n",
        "        optimizer.zero_grad()\n",
        "        loss.backward()\n",
        "        optimizer.step()\n",
        "\n",
        "    # Save and print loss\n",
        "    loss_history.append(total_loss / len(dataset))\n",
        "    print('Epoch [{}/{}], Loss:{:.4f}'.format(epoch+1, num_epochs, total_loss / len(dataset)))\n",
        "\n",
        "torch.save(model, 'checkpoint_flow_matching.pth')"
      ]
    },
    {
      "cell_type": "code",
      "execution_count": 8,
      "metadata": {},
      "outputs": [
        {
          "data": {
            "text/plain": [
              "Text(0.5, 1.0, 'Flow Matching Training Loss')"
            ]
          },
          "execution_count": 8,
          "metadata": {},
          "output_type": "execute_result"
        },
        {
          "data": {
            "image/png": "[encoded data removed]",
            "text/plain": [
              "<Figure size 640x480 with 1 Axes>"
            ]
          },
          "metadata": {},
          "output_type": "display_data"
        }
      ],
      "source": [
        "# Plot the training loss as measures using MSE\n",
        "plt.plot(loss_history)\n",
        "plt.xlabel('Epochs')\n",
        "plt.ylabel('Loss')\n",
        "plt.title('Flow Matching Training Loss')"
      ]
    },
    {
      "cell_type": "markdown",
      "metadata": {
        "id": "cC3St3XiHJxS"
      },
      "source": [
        "## Sampling"
      ]
    },
    {
      "cell_type": "markdown",
      "metadata": {},
      "source": [
        "As part of the torchdyn library we will first need to define a wrapper to run inference on our model."
      ]
    },
    {
      "cell_type": "code",
      "execution_count": 9,
      "metadata": {},
      "outputs": [],
      "source": [
        "class torch_wrapper(torch.nn.Module):\n",
        "    \"\"\"Wraps model to torchdyn compatible format.\"\"\"\n",
        "\n",
        "    def __init__(self, model):\n",
        "        super().__init__()\n",
        "        self.model = model\n",
        "\n",
        "    def forward(self, t, x, *args, **kwargs):\n",
        "        return self.model(x, t * 1000)['sample']"
      ]
    },
    {
      "cell_type": "markdown",
      "metadata": {},
      "source": [
        "Now lets generate some images!  This step involve define an ordinary differential equation (ODE) solver, in this case we will be using the [Dormand–Prince method](https://en.wikipedia.org/wiki/Dormand%E2%80%93Prince_method), but any off-the-shelf ODE will do here.  \n",
        "\n",
        "The neural network $v_t$ we just trained defines the vector field. Starting from a Gaussian distribution, we will follow the trajectory created by vector fields over 100 step, eventually ending up within the distribution of MNIST images."
      ]
    },
    {
      "cell_type": "code",
      "execution_count": 12,
      "metadata": {
        "colab": {
          "base_uri": "https://localhost:8080/",
          "height": 262
        },
        "id": "svgFof_QVbvq",
        "outputId": "9c8c2054-8d35-45a8-9098-5a5fa8dd2815"
      },
      "outputs": [],
      "source": [
        "# Define our Ordinary Differential Equation (ODE) solver\n",
        "node = NeuralODE(\n",
        "    torch_wrapper(model), solver=\"dopri5\", sensitivity=\"adjoint\", atol=1e-4, rtol=1e-4\n",
        ")\n",
        "\n",
        "# Use ODE solver to follow the trejectory created by our neural network\n",
        "with torch.no_grad():\n",
        "    traj = node.trajectory(\n",
        "        torch.randn_like(x1),\n",
        "        t_span=torch.linspace(0, 1, 100),\n",
        "    )"
      ]
    },
    {
      "cell_type": "code",
      "execution_count": 13,
      "metadata": {},
      "outputs": [
        {
          "data": {
            "image/png": "[encoded data removed]",
            "text/plain": [
              "<Figure size 1200x250 with 5 Axes>"
            ]
          },
          "metadata": {},
          "output_type": "display_data"
        }
      ],
      "source": [
        "# Show 5 example generated images\n",
        "total_examples = 5\n",
        "fig, ax= plt.subplots(1, total_examples, figsize=(12, 2.5))\n",
        "fig.suptitle('Generated Examples')\n",
        "for i in range(total_examples):\n",
        "    ax[i].imshow(traj[-1,i,0].cpu().numpy())"
      ]
    }
  ],
  "metadata": {
    "accelerator": "GPU",
    "colab": {
      "gpuType": "V100",
      "machine_shape": "hm",
      "provenance": []
    },
    "kernelspec": {
      "display_name": "Python 3",
      "name": "python3"
    },
    "language_info": {
      "codemirror_mode": {
        "name": "ipython",
        "version": 3
      },
      "file_extension": ".py",
      "mimetype": "text/x-python",
      "name": "python",
      "nbconvert_exporter": "python",
      "pygments_lexer": "ipython3",
      "version": "3.9.18"
    },
    "orig_nbformat": 4,
    "vscode": {
      "interpreter": {
        "hash": "670f56a09e544e4bbfbd6b5287e0e16c8302d350aabab9be44abb05d0d81374c"
      }
    }
  },
  "nbformat": 4,
  "nbformat_minor": 0
}
