{
  "cells": [
    {
      "cell_type": "markdown",
      "metadata": {
        "id": "nUpgaUIdtNCP"
      },
      "source": [
        "## General Adversarial Networks"
      ]
    },
    {
      "cell_type": "markdown",
      "metadata": {
        "id": "2Tc1HJ0HEkbV"
      },
      "source": [
        "Generative Adversarial Networks (GANs) were originally proposed in the 2014 [paper of the same name](https://arxiv.org/abs/1406.2661).  The idea is to have two distinct networks, the generator and the discriminator.  The generator network takes random noise as input and produces an image.  The discriminator network is trained on these sythetically generate images as well as real images, it is then given the task of distinguishing between fake and real images.  GANs give impressive results, but training them can be tricky.  Training GANs is sometimes more of an art than a science, with instable training and mode collapse both happening often.  See [here](https://github.com/soumith/ganhacks) for a good list of tips on how to effective train GANs."
      ]
    },
    {
      "cell_type": "code",
      "execution_count": 13,
      "metadata": {
        "id": "riJhtZ6x3Pl1"
      },
      "outputs": [],
      "source": [
        "import torch\n",
        "import cv2\n",
        "import numpy as np\n",
        "import random\n",
        "from skimage import transform\n",
        "from torch.utils.data import Dataset\n",
        "import os\n",
        "from torch.utils.data import DataLoader\n",
        "import torch.optim as optim\n",
        "from torch.autograd import Variable\n",
        "import torch.nn as nn\n",
        "import matplotlib.pyplot as plt\n",
        "import torch.nn as nn\n",
        "from __future__ import print_function\n",
        "import argparse\n",
        "import os\n",
        "import random\n",
        "import torch\n",
        "import torch.nn as nn\n",
        "import torch.nn.parallel\n",
        "import torch.backends.cudnn as cudnn\n",
        "import torch.optim as optim\n",
        "import torch.utils.data\n",
        "import torchvision.datasets as dset\n",
        "import torchvision.transforms as transforms\n",
        "import torchvision.utils as vutils\n",
        "import numpy as np\n",
        "import matplotlib.pyplot as plt\n",
        "import matplotlib.animation as animation\n",
        "from IPython.display import HTML\n",
        "from torchvision.datasets import MNIST"
      ]
    },
    {
      "cell_type": "markdown",
      "metadata": {
        "id": "b_R2D6Tus9gZ"
      },
      "source": [
        "## Model"
      ]
    },
    {
      "cell_type": "markdown",
      "metadata": {
        "id": "xo9CpSZCEkbX"
      },
      "source": [
        "For the architecture we will use DCGAN.  The code is taken from the [PyTorch documentation](https://pytorch.org/tutorials/beginner/dcgan_faces_tutorial.html) and is a good place to start with GANs.  The [DCGAN paper](https://arxiv.org/abs/1511.06434) also gives some good recomendations on how GAN architectures should be designed."
      ]
    },
    {
      "cell_type": "code",
      "execution_count": 14,
      "metadata": {
        "id": "kYBGKQg73BIE"
      },
      "outputs": [],
      "source": [
        "# Number of workers for dataloader\n",
        "workers = 2\n",
        "\n",
        "# Batch size during training\n",
        "batch_size = 128\n",
        "\n",
        "# Spatial size of training images. All images will be resized to this\n",
        "#   size using a transformer.\n",
        "image_size = 64\n",
        "\n",
        "# Number of channels in the training images. For color images this is 3\n",
        "nc = 1\n",
        "\n",
        "# Size of z latent vector (i.e. size of generator input)\n",
        "nz = 100\n",
        "\n",
        "# Size of feature maps in generator\n",
        "ngf = 64\n",
        "\n",
        "# Size of feature maps in discriminator\n",
        "ndf = 64\n",
        "\n",
        "# Number of training epochs\n",
        "num_epochs = 10\n",
        "\n",
        "# Learning rate for optimizers\n",
        "lr = 0.0002\n",
        "\n",
        "# Beta1 hyperparam for Adam optimizers\n",
        "beta1 = 0.5\n",
        "\n",
        "# Number of GPUs available. Use 0 for CPU mode.\n",
        "ngpu = 1"
      ]
    },
    {
      "cell_type": "code",
      "execution_count": 15,
      "metadata": {
        "id": "VxMUeoOFpuo0"
      },
      "outputs": [],
      "source": [
        "# custom weights initialization called on netG and netD\n",
        "def weights_init(m):\n",
        "    classname = m.__class__.__name__\n",
        "    if classname.find('Conv') != -1:\n",
        "        nn.init.normal_(m.weight.data, 0.0, 0.02)\n",
        "    elif classname.find('BatchNorm') != -1:\n",
        "        nn.init.normal_(m.weight.data, 1.0, 0.02)\n",
        "        nn.init.constant_(m.bias.data, 0)"
      ]
    },
    {
      "cell_type": "code",
      "execution_count": 16,
      "metadata": {
        "colab": {
          "base_uri": "https://localhost:8080/"
        },
        "id": "VQWzeVIPCAd3",
        "outputId": "05f454fd-71cd-486a-ef0b-a3982ea06b40"
      },
      "outputs": [
        {
          "name": "stdout",
          "output_type": "stream",
          "text": [
            "Num params (generator):  3444480\n"
          ]
        }
      ],
      "source": [
        "# Generator Code\n",
        "class Generator(nn.Module):\n",
        "    def __init__(self, ngpu):\n",
        "        super(Generator, self).__init__()\n",
        "        self.ngpu = ngpu\n",
        "        self.main1 = nn.Sequential(\n",
        "            # input is Z, going into a convolution\n",
        "            nn.ConvTranspose2d( nz, ngf * 8, 4, 1, 0, bias=False),\n",
        "            nn.BatchNorm2d(ngf * 8),\n",
        "            nn.ReLU(True)\n",
        "        )\n",
        "\n",
        "        self.main2 = nn.Sequential(\n",
        "            # state size. (ngf*8) x 4 x 4\n",
        "            nn.ConvTranspose2d(ngf * 8, ngf * 4, 4, 2, 1, bias=False),\n",
        "            nn.BatchNorm2d(ngf * 4),\n",
        "            nn.ReLU(True)\n",
        "        )\n",
        "\n",
        "        self.main3 = nn.Sequential(\n",
        "            # state size. (ngf*4) x 8 x 8\n",
        "            nn.ConvTranspose2d( ngf * 4, ngf * 2, 4, 2, 2, bias=False),\n",
        "            nn.BatchNorm2d(ngf * 2),\n",
        "            nn.ReLU(True)\n",
        "        )\n",
        "        self.main4 = nn.Sequential(\n",
        "            nn.ConvTranspose2d( ngf * 2, nc, 4, 2, 1, bias=False),\n",
        "            nn.Tanh()\n",
        "        )\n",
        "\n",
        "    def forward(self, input):\n",
        "        x = self.main1(input)\n",
        "        x = self.main2(x)\n",
        "        x = self.main3(x)\n",
        "        x = self.main4(x)\n",
        "        return x\n",
        "\n",
        "device = torch.device(\"cuda\" if torch.cuda.is_available() else \"cpu\")\n",
        "\n",
        "# Create the generator\n",
        "netG = Generator(ngpu).to(device)\n",
        "\n",
        "# Handle multi-gpu if desired\n",
        "if (device.type == 'cuda') and (ngpu > 1):\n",
        "    netG = nn.DataParallel(netG, list(range(ngpu)))\n",
        "\n",
        "# Apply the weights_init function to randomly initialize all weights\n",
        "netG.apply(weights_init)\n",
        "\n",
        "# Print the number of parameters for the generator\n",
        "print(\"Num params (generator): \", sum(p.numel() for p in netG.parameters()))"
      ]
    },
    {
      "cell_type": "code",
      "execution_count": 17,
      "metadata": {
        "colab": {
          "base_uri": "https://localhost:8080/"
        },
        "id": "nBCRnf1qCaHC",
        "outputId": "52a25740-27c5-4b16-815a-2bd18f185f6c"
      },
      "outputs": [
        {
          "name": "stdout",
          "output_type": "stream",
          "text": [
            "Num params (discriminator):  659456\n"
          ]
        }
      ],
      "source": [
        "class Discriminator(nn.Module):\n",
        "    def __init__(self, ngpu):\n",
        "        super(Discriminator, self).__init__()\n",
        "        self.ngpu = ngpu\n",
        "        self.main1 = nn.Sequential(\n",
        "            # input is (nc) x 64 x 64\n",
        "            nn.Conv2d(nc, ndf, 4, 2, 1, bias=False),\n",
        "            nn.LeakyReLU(0.2, inplace=True)\n",
        "        )\n",
        "\n",
        "        self.main2 = nn.Sequential(\n",
        "            # state size. (ndf) x 32 x 32\n",
        "            nn.Conv2d(ndf, ndf * 2, 4, 2, 1, bias=False),\n",
        "            nn.BatchNorm2d(ndf * 2),\n",
        "            nn.LeakyReLU(0.2, inplace=True)\n",
        "        )\n",
        "        \n",
        "        self.main3 = nn.Sequential(\n",
        "            # state size. (ndf*2) x 16 x 16\n",
        "            nn.Conv2d(ndf * 2, ndf * 4, 4, 2, 1, bias=False),\n",
        "            nn.BatchNorm2d(ndf * 4),\n",
        "            nn.LeakyReLU(0.2, inplace=True)\n",
        "        )\n",
        "        \n",
        "        self.main4 = nn.Sequential(\n",
        "            # state size. (ndf*8) x 4 x 4\n",
        "            nn.Conv2d(ndf * 4, 1, 3, 1, 0, bias=False),\n",
        "            nn.Sigmoid()\n",
        "        )\n",
        "\n",
        "    def forward(self, input):\n",
        "        x = self.main1(input)\n",
        "        x = self.main2(x)\n",
        "        x = self.main3(x)\n",
        "        x = self.main4(x)\n",
        "        return x\n",
        "\n",
        "  \n",
        "# Create the Discriminator\n",
        "netD = Discriminator(ngpu).to(device)\n",
        "\n",
        "# Apply the weights_init function to randomly initialize all weights\n",
        "#  to mean=0, stdev=0.2.\n",
        "netD.apply(weights_init)\n",
        "\n",
        "# Print the number of parameters for the discriminator\n",
        "print(\"Num params (discriminator): \", sum(p.numel() for p in netD.parameters()))"
      ]
    },
    {
      "cell_type": "markdown",
      "metadata": {
        "id": "RU92t1HXHJxP"
      },
      "source": [
        "## Data"
      ]
    },
    {
      "cell_type": "markdown",
      "metadata": {
        "id": "ECO0Yq0eHJxP"
      },
      "source": [
        "Download and plot some examples from the training data. We will use the MNIST dataset for the sake of simplicity."
      ]
    },
    {
      "cell_type": "code",
      "execution_count": 18,
      "metadata": {
        "colab": {
          "base_uri": "https://localhost:8080/",
          "height": 210
        },
        "id": "1gF3n4PpHJxP",
        "outputId": "dc5a9b28-750b-48a0-adb5-52c3948979a7"
      },
      "outputs": [
        {
          "data": {
            "text/plain": [
              "<matplotlib.image.AxesImage at 0x7f588eb83fa0>"
            ]
          },
          "execution_count": 18,
          "metadata": {},
          "output_type": "execute_result"
        },
        {
          "data": {
            "image/png": "[encoded data removed]",
            "text/plain": [
              "<Figure size 864x180 with 5 Axes>"
            ]
          },
          "metadata": {
            "needs_background": "light"
          },
          "output_type": "display_data"
        }
      ],
      "source": [
        "# Are we using the CPU or the GPU?\n",
        "device = \"cuda\" if torch.cuda.is_available() else \"cpu\"\n",
        "\n",
        "# Transforms to be applied to all images in the dataset\n",
        "tf = transforms.Compose(\n",
        "    [transforms.ToTensor()]\n",
        ")\n",
        "\n",
        "# Download/setup the MNIST dataset\n",
        "dataset = MNIST(\n",
        "    \"./data\",\n",
        "    train=True,\n",
        "    download=True,\n",
        "    transform=tf,\n",
        ")\n",
        "\n",
        "# Plot examples\n",
        "fig, ax= plt.subplots(1, 5, figsize=(12, 2.5))\n",
        "fig.suptitle('MNIST Examples')\n",
        "ax[0].imshow(dataset[0][0][0,:,:].numpy())\n",
        "ax[1].imshow(dataset[1][0][0,:,:].numpy())\n",
        "ax[2].imshow(dataset[2][0][0,:,:].numpy())\n",
        "ax[3].imshow(dataset[3][0][0,:,:].numpy())\n",
        "ax[4].imshow(dataset[4][0][0,:,:].numpy())\n"
      ]
    },
    {
      "cell_type": "markdown",
      "metadata": {
        "id": "6ZRWWqfv1Qu1"
      },
      "source": [
        "## Loss Function"
      ]
    },
    {
      "cell_type": "markdown",
      "metadata": {
        "id": "44pj5xr2Ekbd"
      },
      "source": [
        "GANs are optimised by playing a minimax game with the value function $V$\n",
        "\n",
        "$$ \\underset{G}{\\min} ~ \\underset{D}{\\max} ~ V(D,G) = \\mathbb{E}_{x \\sim p_{data}(x)}[\\text{log}(D(x))] + {\\mathbb{E}_{z \\sim p_{z}(z)}}[\\text{log}(1-D(G(z)))]$$\n",
        "\n",
        "where\n",
        "\n",
        "$ ~~~~~~~~~~~~ D=$ discriminator network\n",
        "\n",
        "$ ~~~~~~~~~~~~ G = $ generator network\n",
        "\n",
        "$ ~~~~~~~~~~~~ z = $ random vector\n",
        "\n",
        "$ ~~~~~~~~~~~~ x=$ real image\n",
        "\n",
        "The first term represents the discriminators predictions on real data and the second term represents the discriminators predictions on the fake data.  We want our discriminator network $D$ to predict a $1$ when it is given a real image and $0$ when given a fake image.  If $D$ acheives both of these aims, then the loss function will have been maximised. The generator on the other hand wants to fool the discriminator. The generator wants $D$ to incorrectly predict $1$ when it is given fake data.  This sets up the adversarial minimax game.\n",
        "\n",
        "We could implement this loss function directly, but lots of people use binary cross entropy loss because it is equivalent\n",
        "\n",
        "$$L_{BCE} = -\\sum_{i=1}^N{y_i \\text{log}(D(x)) + (1-y_i) \\text{log}(1-D(G(z)))} $$\n",
        "\n",
        "where $y$ is the ground truth and we have $N$ data points. So when $y=0$ the first term is ignored, and when $y=1$ the second term is ignored.  This makes intuative sense because the first term optimises on real data and the seond term on fake data.  We can then add loss for fake value (when $y=0$) and loss for real values (when $y=1$) to obtain our original loss function above (more or less).\n"
      ]
    },
    {
      "cell_type": "code",
      "execution_count": 19,
      "metadata": {
        "id": "QIW1qQfEmCq1"
      },
      "outputs": [],
      "source": [
        "# Initialize BCELoss function\n",
        "criterion = nn.BCELoss()\n",
        "\n",
        "# Create batch of latent vectors that we will use to visualize\n",
        "#  the progression of the generator\n",
        "fixed_noise = torch.randn(64, nz, 1, 1, device=device)\n",
        "\n",
        "# Establish convention for real and fake labels during training\n",
        "real_label = 1.\n",
        "fake_label = 0.\n",
        "\n",
        "# Setup Adam optimizers for both G and D\n",
        "optimizerD = optim.Adam(netD.parameters(), lr=lr, betas=(beta1, 0.999))\n",
        "optimizerG = optim.Adam(netG.parameters(), lr=lr, betas=(beta1, 0.999))"
      ]
    },
    {
      "cell_type": "markdown",
      "metadata": {
        "id": "IDBypXcrEkbe"
      },
      "source": [
        "## Training"
      ]
    },
    {
      "cell_type": "markdown",
      "metadata": {
        "id": "x-5O-yV0Ekbe"
      },
      "source": [
        "Training GANs happens in a two stage process which is repeated\n",
        "1. Update the weights of the discriminator.  This is done by ascending its stocastic gradient:\n",
        "$$\\nabla_{\\theta_d} \\frac{1}{m}\\sum_{i=1}^{m}\\text{log}(D(x))+\\text{log}(1-D(G(z)))$$\n",
        "\n",
        "2. Update the weights of the generator.  We can ignore the first term of the loss because the generator is not included.  This is done by descending its stocastic gradient:\n",
        "$$\\nabla_{\\theta_g} \\frac{1}{m}\\sum_{i=1}^{m}\\text{log}(1-D(G(z)))$$\n",
        "\n",
        "Step 1 can be done repeatedly, however, in this implementation it is just run once."
      ]
    },
    {
      "cell_type": "code",
      "execution_count": 20,
      "metadata": {
        "colab": {
          "base_uri": "https://localhost:8080/"
        },
        "id": "CbbLXRw8mWWY",
        "outputId": "3fbca2ec-5f0e-4f58-ca30-95a4eab9c095"
      },
      "outputs": [
        {
          "name": "stdout",
          "output_type": "stream",
          "text": [
            "[0/100][0/469]\tLoss_D: 1.1623\tLoss_G: 1.5797\tD(x): 0.6155\tD(G(z)): 0.4644 / 0.2281\n",
            "[0/100][200/469]\tLoss_D: 0.0828\tLoss_G: 3.2073\tD(x): 0.9428\tD(G(z)): 0.0214 / 0.0510\n",
            "[0/100][400/469]\tLoss_D: 0.1790\tLoss_G: 3.0430\tD(x): 0.9355\tD(G(z)): 0.1018 / 0.0576\n",
            "[1/100][0/469]\tLoss_D: 0.0617\tLoss_G: 4.1210\tD(x): 0.9669\tD(G(z)): 0.0265 / 0.0220\n",
            "[1/100][200/469]\tLoss_D: 0.0509\tLoss_G: 4.5549\tD(x): 0.9808\tD(G(z)): 0.0302 / 0.0158\n",
            "[1/100][400/469]\tLoss_D: 0.0347\tLoss_G: 4.6918\tD(x): 0.9853\tD(G(z)): 0.0192 / 0.0133\n",
            "[2/100][0/469]\tLoss_D: 0.0320\tLoss_G: 4.8247\tD(x): 0.9822\tD(G(z)): 0.0135 / 0.0131\n",
            "[2/100][200/469]\tLoss_D: 7.1545\tLoss_G: 0.1388\tD(x): 0.0059\tD(G(z)): 0.0034 / 0.9114\n",
            "[2/100][400/469]\tLoss_D: 0.1938\tLoss_G: 3.2588\tD(x): 0.9593\tD(G(z)): 0.1348 / 0.0482\n",
            "[3/100][0/469]\tLoss_D: 0.0567\tLoss_G: 4.1523\tD(x): 0.9684\tD(G(z)): 0.0230 / 0.0211\n",
            "[3/100][200/469]\tLoss_D: 0.0487\tLoss_G: 4.7200\tD(x): 0.9830\tD(G(z)): 0.0303 / 0.0124\n",
            "[3/100][400/469]\tLoss_D: 0.3070\tLoss_G: 2.4662\tD(x): 0.8593\tD(G(z)): 0.1318 / 0.1052\n",
            "[4/100][0/469]\tLoss_D: 0.0452\tLoss_G: 4.1168\tD(x): 0.9796\tD(G(z)): 0.0236 / 0.0249\n",
            "[4/100][200/469]\tLoss_D: 0.0772\tLoss_G: 3.8127\tD(x): 0.9618\tD(G(z)): 0.0361 / 0.0314\n",
            "[4/100][400/469]\tLoss_D: 0.2383\tLoss_G: 3.2984\tD(x): 0.8559\tD(G(z)): 0.0612 / 0.0531\n",
            "[5/100][0/469]\tLoss_D: 0.0961\tLoss_G: 3.2945\tD(x): 0.9278\tD(G(z)): 0.0147 / 0.0585\n",
            "[5/100][200/469]\tLoss_D: 0.2303\tLoss_G: 3.4001\tD(x): 0.9477\tD(G(z)): 0.1511 / 0.0456\n",
            "[5/100][400/469]\tLoss_D: 0.0505\tLoss_G: 4.2941\tD(x): 0.9716\tD(G(z)): 0.0201 / 0.0211\n",
            "[6/100][0/469]\tLoss_D: 0.5879\tLoss_G: 0.8607\tD(x): 0.8336\tD(G(z)): 0.2635 / 0.4836\n",
            "[6/100][200/469]\tLoss_D: 0.3783\tLoss_G: 1.4830\tD(x): 0.7249\tD(G(z)): 0.0127 / 0.2939\n",
            "[6/100][400/469]\tLoss_D: 0.1892\tLoss_G: 3.8420\tD(x): 0.9531\tD(G(z)): 0.1172 / 0.0311\n",
            "[7/100][0/469]\tLoss_D: 0.2384\tLoss_G: 2.3244\tD(x): 0.8275\tD(G(z)): 0.0249 / 0.1537\n",
            "[7/100][200/469]\tLoss_D: 0.1030\tLoss_G: 3.3912\tD(x): 0.9434\tD(G(z)): 0.0385 / 0.0520\n",
            "[7/100][400/469]\tLoss_D: 0.2555\tLoss_G: 3.2613\tD(x): 0.9402\tD(G(z)): 0.1578 / 0.0550\n",
            "[8/100][0/469]\tLoss_D: 0.3242\tLoss_G: 2.0863\tD(x): 0.8041\tD(G(z)): 0.0687 / 0.1758\n",
            "[8/100][200/469]\tLoss_D: 0.3201\tLoss_G: 2.4138\tD(x): 0.8041\tD(G(z)): 0.0704 / 0.1203\n",
            "[8/100][400/469]\tLoss_D: 0.1898\tLoss_G: 3.5347\tD(x): 0.9576\tD(G(z)): 0.1271 / 0.0393\n",
            "[9/100][0/469]\tLoss_D: 0.3485\tLoss_G: 2.7353\tD(x): 0.7543\tD(G(z)): 0.0098 / 0.1132\n",
            "[9/100][200/469]\tLoss_D: 0.5530\tLoss_G: 6.5547\tD(x): 0.9947\tD(G(z)): 0.3768 / 0.0023\n",
            "[9/100][400/469]\tLoss_D: 0.2396\tLoss_G: 3.9096\tD(x): 0.9280\tD(G(z)): 0.1284 / 0.0360\n",
            "[10/100][0/469]\tLoss_D: 0.3678\tLoss_G: 2.4133\tD(x): 0.7831\tD(G(z)): 0.0927 / 0.1235\n",
            "[10/100][200/469]\tLoss_D: 0.1401\tLoss_G: 3.4543\tD(x): 0.9378\tD(G(z)): 0.0668 / 0.0515\n",
            "[10/100][400/469]\tLoss_D: 0.2735\tLoss_G: 5.5179\tD(x): 0.9878\tD(G(z)): 0.2064 / 0.0062\n",
            "[11/100][0/469]\tLoss_D: 0.4318\tLoss_G: 3.4389\tD(x): 0.9696\tD(G(z)): 0.2766 / 0.0498\n",
            "[11/100][200/469]\tLoss_D: 0.1939\tLoss_G: 3.1732\tD(x): 0.9270\tD(G(z)): 0.1011 / 0.0610\n",
            "[11/100][400/469]\tLoss_D: 0.1770\tLoss_G: 3.6896\tD(x): 0.9465\tD(G(z)): 0.1057 / 0.0387\n",
            "[12/100][0/469]\tLoss_D: 0.1746\tLoss_G: 3.1779\tD(x): 0.8925\tD(G(z)): 0.0506 / 0.0659\n",
            "[12/100][200/469]\tLoss_D: 0.1062\tLoss_G: 3.8182\tD(x): 0.9237\tD(G(z)): 0.0222 / 0.0402\n",
            "[12/100][400/469]\tLoss_D: 0.1664\tLoss_G: 3.2980\tD(x): 0.8764\tD(G(z)): 0.0216 / 0.0592\n",
            "[13/100][0/469]\tLoss_D: 0.3187\tLoss_G: 4.4974\tD(x): 0.9740\tD(G(z)): 0.2270 / 0.0160\n",
            "[13/100][200/469]\tLoss_D: 0.7872\tLoss_G: 1.2161\tD(x): 0.5587\tD(G(z)): 0.0343 / 0.3993\n",
            "[13/100][400/469]\tLoss_D: 0.3193\tLoss_G: 3.1659\tD(x): 0.8323\tD(G(z)): 0.0962 / 0.0606\n",
            "[14/100][0/469]\tLoss_D: 0.4158\tLoss_G: 1.9846\tD(x): 0.7257\tD(G(z)): 0.0396 / 0.1954\n",
            "[14/100][200/469]\tLoss_D: 0.1743\tLoss_G: 3.7057\tD(x): 0.9259\tD(G(z)): 0.0831 / 0.0396\n",
            "[14/100][400/469]\tLoss_D: 0.2564\tLoss_G: 2.5760\tD(x): 0.8823\tD(G(z)): 0.1006 / 0.1153\n",
            "[15/100][0/469]\tLoss_D: 0.6722\tLoss_G: 6.0338\tD(x): 0.9838\tD(G(z)): 0.4107 / 0.0042\n",
            "[15/100][200/469]\tLoss_D: 0.4066\tLoss_G: 3.0506\tD(x): 0.8757\tD(G(z)): 0.1921 / 0.0846\n",
            "[15/100][400/469]\tLoss_D: 0.2358\tLoss_G: 3.1738\tD(x): 0.8330\tD(G(z)): 0.0249 / 0.0703\n",
            "[16/100][0/469]\tLoss_D: 0.3693\tLoss_G: 4.2118\tD(x): 0.9181\tD(G(z)): 0.2169 / 0.0230\n",
            "[16/100][200/469]\tLoss_D: 0.5804\tLoss_G: 1.4620\tD(x): 0.6271\tD(G(z)): 0.0324 / 0.3285\n",
            "[16/100][400/469]\tLoss_D: 0.2777\tLoss_G: 2.8736\tD(x): 0.8593\tD(G(z)): 0.0886 / 0.0906\n",
            "[17/100][0/469]\tLoss_D: 0.3940\tLoss_G: 3.2359\tD(x): 0.9248\tD(G(z)): 0.2342 / 0.0646\n",
            "[17/100][200/469]\tLoss_D: 0.5895\tLoss_G: 1.9624\tD(x): 0.6577\tD(G(z)): 0.0407 / 0.2386\n",
            "[17/100][400/469]\tLoss_D: 1.4287\tLoss_G: 0.6639\tD(x): 0.3541\tD(G(z)): 0.0355 / 0.5988\n",
            "[18/100][0/469]\tLoss_D: 0.1681\tLoss_G: 2.8502\tD(x): 0.9241\tD(G(z)): 0.0751 / 0.0893\n",
            "[18/100][200/469]\tLoss_D: 0.1865\tLoss_G: 3.5530\tD(x): 0.8850\tD(G(z)): 0.0507 / 0.0493\n",
            "[18/100][400/469]\tLoss_D: 0.2306\tLoss_G: 3.5014\tD(x): 0.9225\tD(G(z)): 0.1201 / 0.0461\n",
            "[19/100][0/469]\tLoss_D: 0.2052\tLoss_G: 3.4053\tD(x): 0.9205\tD(G(z)): 0.1013 / 0.0507\n",
            "[19/100][200/469]\tLoss_D: 0.2704\tLoss_G: 3.6592\tD(x): 0.9592\tD(G(z)): 0.1814 / 0.0392\n",
            "[19/100][400/469]\tLoss_D: 0.3796\tLoss_G: 2.6426\tD(x): 0.7358\tD(G(z)): 0.0135 / 0.1126\n",
            "[20/100][0/469]\tLoss_D: 0.2006\tLoss_G: 3.5020\tD(x): 0.9218\tD(G(z)): 0.1008 / 0.0491\n",
            "[20/100][200/469]\tLoss_D: 0.2778\tLoss_G: 2.7430\tD(x): 0.8302\tD(G(z)): 0.0645 / 0.0944\n",
            "[20/100][400/469]\tLoss_D: 0.3174\tLoss_G: 3.0895\tD(x): 0.9320\tD(G(z)): 0.1953 / 0.0653\n",
            "[21/100][0/469]\tLoss_D: 0.4268\tLoss_G: 4.4246\tD(x): 0.9676\tD(G(z)): 0.2773 / 0.0262\n",
            "[21/100][200/469]\tLoss_D: 0.8436\tLoss_G: 3.7549\tD(x): 0.9577\tD(G(z)): 0.4761 / 0.0409\n",
            "[21/100][400/469]\tLoss_D: 0.4021\tLoss_G: 2.2175\tD(x): 0.7396\tD(G(z)): 0.0484 / 0.1722\n",
            "[22/100][0/469]\tLoss_D: 0.2651\tLoss_G: 2.2491\tD(x): 0.8244\tD(G(z)): 0.0507 / 0.1684\n",
            "[22/100][200/469]\tLoss_D: 0.3038\tLoss_G: 2.3631\tD(x): 0.8988\tD(G(z)): 0.1549 / 0.1344\n",
            "[22/100][400/469]\tLoss_D: 0.1655\tLoss_G: 3.2083\tD(x): 0.9157\tD(G(z)): 0.0635 / 0.0574\n",
            "[23/100][0/469]\tLoss_D: 0.3296\tLoss_G: 2.2528\tD(x): 0.7821\tD(G(z)): 0.0536 / 0.1617\n",
            "[23/100][200/469]\tLoss_D: 0.2183\tLoss_G: 3.1528\tD(x): 0.8973\tD(G(z)): 0.0905 / 0.0734\n",
            "[23/100][400/469]\tLoss_D: 0.4181\tLoss_G: 1.6160\tD(x): 0.7082\tD(G(z)): 0.0353 / 0.2693\n",
            "[24/100][0/469]\tLoss_D: 0.1862\tLoss_G: 4.4660\tD(x): 0.9389\tD(G(z)): 0.1041 / 0.0202\n",
            "[24/100][200/469]\tLoss_D: 0.2895\tLoss_G: 2.8026\tD(x): 0.8418\tD(G(z)): 0.0934 / 0.1020\n",
            "[24/100][400/469]\tLoss_D: 0.5286\tLoss_G: 4.1987\tD(x): 0.9806\tD(G(z)): 0.3513 / 0.0261\n",
            "[25/100][0/469]\tLoss_D: 0.3574\tLoss_G: 4.3604\tD(x): 0.9524\tD(G(z)): 0.2320 / 0.0198\n",
            "[25/100][200/469]\tLoss_D: 0.3216\tLoss_G: 4.0274\tD(x): 0.9119\tD(G(z)): 0.1699 / 0.0328\n",
            "[25/100][400/469]\tLoss_D: 0.2783\tLoss_G: 2.5398\tD(x): 0.8234\tD(G(z)): 0.0608 / 0.1201\n",
            "[26/100][0/469]\tLoss_D: 0.2848\tLoss_G: 2.3769\tD(x): 0.8125\tD(G(z)): 0.0510 / 0.1355\n",
            "[26/100][200/469]\tLoss_D: 0.4722\tLoss_G: 2.0329\tD(x): 0.7419\tD(G(z)): 0.0904 / 0.2069\n",
            "[26/100][400/469]\tLoss_D: 0.2355\tLoss_G: 2.8841\tD(x): 0.9263\tD(G(z)): 0.1341 / 0.0848\n",
            "[27/100][0/469]\tLoss_D: 0.4118\tLoss_G: 2.1998\tD(x): 0.7205\tD(G(z)): 0.0290 / 0.1703\n",
            "[27/100][200/469]\tLoss_D: 0.4022\tLoss_G: 1.6684\tD(x): 0.7436\tD(G(z)): 0.0688 / 0.2571\n",
            "[27/100][400/469]\tLoss_D: 0.2436\tLoss_G: 3.0377\tD(x): 0.9219\tD(G(z)): 0.1319 / 0.0731\n",
            "[28/100][0/469]\tLoss_D: 0.4247\tLoss_G: 2.5597\tD(x): 0.7395\tD(G(z)): 0.0588 / 0.1271\n",
            "[28/100][200/469]\tLoss_D: 0.2705\tLoss_G: 2.7362\tD(x): 0.8962\tD(G(z)): 0.1268 / 0.1036\n",
            "[28/100][400/469]\tLoss_D: 0.2837\tLoss_G: 2.9972\tD(x): 0.8553\tD(G(z)): 0.0921 / 0.0843\n",
            "[29/100][0/469]\tLoss_D: 0.3977\tLoss_G: 3.8039\tD(x): 0.9531\tD(G(z)): 0.2493 / 0.0403\n",
            "[29/100][200/469]\tLoss_D: 0.7016\tLoss_G: 1.3587\tD(x): 0.6207\tD(G(z)): 0.1019 / 0.3280\n",
            "[29/100][400/469]\tLoss_D: 0.4064\tLoss_G: 3.1297\tD(x): 0.9073\tD(G(z)): 0.2232 / 0.0712\n",
            "[30/100][0/469]\tLoss_D: 2.0398\tLoss_G: 5.0860\tD(x): 0.9964\tD(G(z)): 0.7790 / 0.0162\n",
            "[30/100][200/469]\tLoss_D: 0.2207\tLoss_G: 3.4784\tD(x): 0.9048\tD(G(z)): 0.0981 / 0.0503\n",
            "[30/100][400/469]\tLoss_D: 0.3119\tLoss_G: 3.0091\tD(x): 0.9042\tD(G(z)): 0.1705 / 0.0714\n",
            "[31/100][0/469]\tLoss_D: 0.2292\tLoss_G: 3.8121\tD(x): 0.9083\tD(G(z)): 0.1095 / 0.0384\n",
            "[31/100][200/469]\tLoss_D: 0.2835\tLoss_G: 3.9771\tD(x): 0.8871\tD(G(z)): 0.1261 / 0.0341\n",
            "[31/100][400/469]\tLoss_D: 0.3477\tLoss_G: 2.8696\tD(x): 0.8624\tD(G(z)): 0.1505 / 0.0960\n",
            "[32/100][0/469]\tLoss_D: 0.4837\tLoss_G: 1.9203\tD(x): 0.6868\tD(G(z)): 0.0419 / 0.2132\n",
            "[32/100][200/469]\tLoss_D: 0.4893\tLoss_G: 1.5466\tD(x): 0.7141\tD(G(z)): 0.0717 / 0.2851\n",
            "[32/100][400/469]\tLoss_D: 0.5104\tLoss_G: 4.3255\tD(x): 0.9666\tD(G(z)): 0.3351 / 0.0199\n",
            "[33/100][0/469]\tLoss_D: 0.2099\tLoss_G: 2.5442\tD(x): 0.9050\tD(G(z)): 0.0930 / 0.1134\n",
            "[33/100][200/469]\tLoss_D: 0.2254\tLoss_G: 2.9571\tD(x): 0.8572\tD(G(z)): 0.0529 / 0.0957\n",
            "[33/100][400/469]\tLoss_D: 0.2239\tLoss_G: 3.7488\tD(x): 0.9193\tD(G(z)): 0.1187 / 0.0378\n",
            "[34/100][0/469]\tLoss_D: 0.6693\tLoss_G: 4.6850\tD(x): 0.9828\tD(G(z)): 0.4262 / 0.0152\n",
            "[34/100][200/469]\tLoss_D: 0.6615\tLoss_G: 2.8748\tD(x): 0.8612\tD(G(z)): 0.3327 / 0.0865\n",
            "[34/100][400/469]\tLoss_D: 0.2282\tLoss_G: 3.0706\tD(x): 0.8720\tD(G(z)): 0.0729 / 0.0732\n",
            "[35/100][0/469]\tLoss_D: 0.3829\tLoss_G: 2.7188\tD(x): 0.8006\tD(G(z)): 0.1142 / 0.1077\n",
            "[35/100][200/469]\tLoss_D: 0.7403\tLoss_G: 4.1928\tD(x): 0.9290\tD(G(z)): 0.4079 / 0.0264\n",
            "[35/100][400/469]\tLoss_D: 0.3234\tLoss_G: 3.9612\tD(x): 0.9540\tD(G(z)): 0.2149 / 0.0290\n",
            "[36/100][0/469]\tLoss_D: 0.4486\tLoss_G: 4.1313\tD(x): 0.8618\tD(G(z)): 0.2174 / 0.0276\n",
            "[36/100][200/469]\tLoss_D: 0.2819\tLoss_G: 2.8644\tD(x): 0.8347\tD(G(z)): 0.0742 / 0.0929\n",
            "[36/100][400/469]\tLoss_D: 0.6173\tLoss_G: 1.6264\tD(x): 0.7636\tD(G(z)): 0.2216 / 0.2566\n",
            "[37/100][0/469]\tLoss_D: 0.3231\tLoss_G: 3.0039\tD(x): 0.8020\tD(G(z)): 0.0701 / 0.0806\n",
            "[37/100][200/469]\tLoss_D: 0.4392\tLoss_G: 3.3991\tD(x): 0.9373\tD(G(z)): 0.2789 / 0.0521\n",
            "[37/100][400/469]\tLoss_D: 0.2163\tLoss_G: 3.4341\tD(x): 0.9092\tD(G(z)): 0.0952 / 0.0538\n",
            "[38/100][0/469]\tLoss_D: 0.8617\tLoss_G: 1.4057\tD(x): 0.5613\tD(G(z)): 0.1244 / 0.3431\n",
            "[38/100][200/469]\tLoss_D: 0.3831\tLoss_G: 2.5725\tD(x): 0.7708\tD(G(z)): 0.0761 / 0.1242\n",
            "[38/100][400/469]\tLoss_D: 0.4719\tLoss_G: 1.8519\tD(x): 0.7093\tD(G(z)): 0.0591 / 0.2300\n",
            "[39/100][0/469]\tLoss_D: 0.2493\tLoss_G: 3.0156\tD(x): 0.8658\tD(G(z)): 0.0768 / 0.0814\n",
            "[39/100][200/469]\tLoss_D: 0.3297\tLoss_G: 2.4196\tD(x): 0.8164\tD(G(z)): 0.0911 / 0.1383\n",
            "[39/100][400/469]\tLoss_D: 0.2312\tLoss_G: 3.2063\tD(x): 0.9188\tD(G(z)): 0.1238 / 0.0598\n",
            "[40/100][0/469]\tLoss_D: 0.3164\tLoss_G: 3.8248\tD(x): 0.9364\tD(G(z)): 0.1941 / 0.0373\n",
            "[40/100][200/469]\tLoss_D: 0.3622\tLoss_G: 3.4389\tD(x): 0.9175\tD(G(z)): 0.1931 / 0.0682\n",
            "[40/100][400/469]\tLoss_D: 0.7232\tLoss_G: 0.8791\tD(x): 0.5921\tD(G(z)): 0.0635 / 0.4967\n",
            "[41/100][0/469]\tLoss_D: 0.4774\tLoss_G: 3.9655\tD(x): 0.9799\tD(G(z)): 0.3158 / 0.0304\n",
            "[41/100][200/469]\tLoss_D: 0.2109\tLoss_G: 3.4829\tD(x): 0.8424\tD(G(z)): 0.0230 / 0.0642\n",
            "[41/100][400/469]\tLoss_D: 0.4692\tLoss_G: 2.8690\tD(x): 0.9423\tD(G(z)): 0.2779 / 0.0841\n",
            "[42/100][0/469]\tLoss_D: 0.6558\tLoss_G: 5.4072\tD(x): 0.9667\tD(G(z)): 0.4097 / 0.0073\n",
            "[42/100][200/469]\tLoss_D: 0.2510\tLoss_G: 3.2342\tD(x): 0.9152\tD(G(z)): 0.1325 / 0.0611\n",
            "[42/100][400/469]\tLoss_D: 0.3326\tLoss_G: 4.3077\tD(x): 0.9491\tD(G(z)): 0.2229 / 0.0208\n",
            "[43/100][0/469]\tLoss_D: 0.3773\tLoss_G: 2.4959\tD(x): 0.8253\tD(G(z)): 0.1408 / 0.1265\n",
            "[43/100][200/469]\tLoss_D: 0.3715\tLoss_G: 3.1029\tD(x): 0.7855\tD(G(z)): 0.0785 / 0.0968\n",
            "[43/100][400/469]\tLoss_D: 0.3329\tLoss_G: 2.3216\tD(x): 0.8035\tD(G(z)): 0.0694 / 0.1607\n",
            "[44/100][0/469]\tLoss_D: 0.3323\tLoss_G: 3.8361\tD(x): 0.9608\tD(G(z)): 0.2140 / 0.0400\n",
            "[44/100][200/469]\tLoss_D: 0.4554\tLoss_G: 4.0995\tD(x): 0.9032\tD(G(z)): 0.2484 / 0.0275\n",
            "[44/100][400/469]\tLoss_D: 0.4040\tLoss_G: 2.9593\tD(x): 0.7620\tD(G(z)): 0.0705 / 0.0847\n",
            "[45/100][0/469]\tLoss_D: 0.4303\tLoss_G: 4.8777\tD(x): 0.9735\tD(G(z)): 0.2834 / 0.0130\n",
            "[45/100][200/469]\tLoss_D: 0.5271\tLoss_G: 2.1004\tD(x): 0.7330\tD(G(z)): 0.1313 / 0.1884\n",
            "[45/100][400/469]\tLoss_D: 0.4105\tLoss_G: 1.8085\tD(x): 0.7804\tD(G(z)): 0.0984 / 0.2371\n",
            "[46/100][0/469]\tLoss_D: 0.2977\tLoss_G: 2.8755\tD(x): 0.9012\tD(G(z)): 0.1495 / 0.0943\n",
            "[46/100][200/469]\tLoss_D: 0.3517\tLoss_G: 1.9402\tD(x): 0.8045\tD(G(z)): 0.0878 / 0.2139\n",
            "[46/100][400/469]\tLoss_D: 0.5199\tLoss_G: 1.5681\tD(x): 0.6770\tD(G(z)): 0.0562 / 0.2822\n",
            "[47/100][0/469]\tLoss_D: 0.3964\tLoss_G: 3.0880\tD(x): 0.7582\tD(G(z)): 0.0751 / 0.0788\n",
            "[47/100][200/469]\tLoss_D: 0.3687\tLoss_G: 2.4311\tD(x): 0.8128\tD(G(z)): 0.1203 / 0.1366\n",
            "[47/100][400/469]\tLoss_D: 0.3713\tLoss_G: 3.1414\tD(x): 0.8839\tD(G(z)): 0.1898 / 0.0673\n",
            "[48/100][0/469]\tLoss_D: 0.2903\tLoss_G: 3.5816\tD(x): 0.9092\tD(G(z)): 0.1474 / 0.0468\n",
            "[48/100][200/469]\tLoss_D: 0.9128\tLoss_G: 0.8084\tD(x): 0.5149\tD(G(z)): 0.0482 / 0.5448\n",
            "[48/100][400/469]\tLoss_D: 0.3531\tLoss_G: 3.7799\tD(x): 0.9461\tD(G(z)): 0.2228 / 0.0347\n",
            "[49/100][0/469]\tLoss_D: 0.8236\tLoss_G: 1.9405\tD(x): 0.5501\tD(G(z)): 0.0428 / 0.2266\n",
            "[49/100][200/469]\tLoss_D: 1.1509\tLoss_G: 5.2763\tD(x): 0.9740\tD(G(z)): 0.5657 / 0.0113\n",
            "[49/100][400/469]\tLoss_D: 0.4760\tLoss_G: 2.8947\tD(x): 0.9460\tD(G(z)): 0.2718 / 0.0861\n",
            "[50/100][0/469]\tLoss_D: 1.0675\tLoss_G: 4.8080\tD(x): 0.9750\tD(G(z)): 0.5412 / 0.0202\n",
            "[50/100][200/469]\tLoss_D: 0.9026\tLoss_G: 1.0646\tD(x): 0.5210\tD(G(z)): 0.0847 / 0.4335\n",
            "[50/100][400/469]\tLoss_D: 0.3440\tLoss_G: 2.5243\tD(x): 0.8394\tD(G(z)): 0.1197 / 0.1215\n",
            "[51/100][0/469]\tLoss_D: 0.5989\tLoss_G: 4.5152\tD(x): 0.9376\tD(G(z)): 0.3441 / 0.0205\n",
            "[51/100][200/469]\tLoss_D: 0.4254\tLoss_G: 4.1452\tD(x): 0.9505\tD(G(z)): 0.2627 / 0.0286\n",
            "[51/100][400/469]\tLoss_D: 0.6528\tLoss_G: 3.4685\tD(x): 0.8191\tD(G(z)): 0.2976 / 0.0480\n",
            "[52/100][0/469]\tLoss_D: 0.3415\tLoss_G: 3.0076\tD(x): 0.7933\tD(G(z)): 0.0656 / 0.0837\n",
            "[52/100][200/469]\tLoss_D: 0.5931\tLoss_G: 4.1553\tD(x): 0.8721\tD(G(z)): 0.3120 / 0.0276\n",
            "[52/100][400/469]\tLoss_D: 0.4538\tLoss_G: 3.3311\tD(x): 0.9081\tD(G(z)): 0.2613 / 0.0539\n",
            "[53/100][0/469]\tLoss_D: 0.4530\tLoss_G: 3.8598\tD(x): 0.8850\tD(G(z)): 0.2445 / 0.0347\n",
            "[53/100][200/469]\tLoss_D: 0.4713\tLoss_G: 3.3698\tD(x): 0.9365\tD(G(z)): 0.2842 / 0.0534\n",
            "[53/100][400/469]\tLoss_D: 0.4055\tLoss_G: 2.2617\tD(x): 0.7599\tD(G(z)): 0.0829 / 0.1491\n",
            "[54/100][0/469]\tLoss_D: 0.3783\tLoss_G: 2.6868\tD(x): 0.8349\tD(G(z)): 0.1476 / 0.1007\n",
            "[54/100][200/469]\tLoss_D: 0.3546\tLoss_G: 3.1430\tD(x): 0.8138\tD(G(z)): 0.1023 / 0.0767\n",
            "[54/100][400/469]\tLoss_D: 0.5466\tLoss_G: 2.3012\tD(x): 0.7170\tD(G(z)): 0.1342 / 0.1522\n",
            "[55/100][0/469]\tLoss_D: 0.4004\tLoss_G: 2.2915\tD(x): 0.7822\tD(G(z)): 0.0863 / 0.1577\n",
            "[55/100][200/469]\tLoss_D: 0.3884\tLoss_G: 3.4431\tD(x): 0.9461\tD(G(z)): 0.2463 / 0.0473\n",
            "[55/100][400/469]\tLoss_D: 0.6230\tLoss_G: 1.8382\tD(x): 0.6537\tD(G(z)): 0.0793 / 0.2360\n",
            "[56/100][0/469]\tLoss_D: 0.2662\tLoss_G: 3.5597\tD(x): 0.9163\tD(G(z)): 0.1381 / 0.0533\n",
            "[56/100][200/469]\tLoss_D: 0.5192\tLoss_G: 3.9769\tD(x): 0.9087\tD(G(z)): 0.2862 / 0.0326\n",
            "[56/100][400/469]\tLoss_D: 0.2931\tLoss_G: 3.1514\tD(x): 0.9421\tD(G(z)): 0.1810 / 0.0648\n",
            "[57/100][0/469]\tLoss_D: 0.4090\tLoss_G: 3.9053\tD(x): 0.9896\tD(G(z)): 0.2728 / 0.0379\n",
            "[57/100][200/469]\tLoss_D: 0.4339\tLoss_G: 1.8031\tD(x): 0.7756\tD(G(z)): 0.1089 / 0.2452\n",
            "[57/100][400/469]\tLoss_D: 0.2576\tLoss_G: 3.6737\tD(x): 0.9057\tD(G(z)): 0.1202 / 0.0459\n",
            "[58/100][0/469]\tLoss_D: 0.4365\tLoss_G: 3.8530\tD(x): 0.9240\tD(G(z)): 0.2457 / 0.0363\n",
            "[58/100][200/469]\tLoss_D: 0.2973\tLoss_G: 3.7204\tD(x): 0.9475\tD(G(z)): 0.1941 / 0.0377\n",
            "[58/100][400/469]\tLoss_D: 0.6093\tLoss_G: 1.7724\tD(x): 0.6132\tD(G(z)): 0.0360 / 0.2466\n",
            "[59/100][0/469]\tLoss_D: 0.3238\tLoss_G: 2.6547\tD(x): 0.8797\tD(G(z)): 0.1433 / 0.1180\n",
            "[59/100][200/469]\tLoss_D: 0.3924\tLoss_G: 2.6641\tD(x): 0.8006\tD(G(z)): 0.1215 / 0.1126\n",
            "[59/100][400/469]\tLoss_D: 0.5467\tLoss_G: 3.3823\tD(x): 0.9358\tD(G(z)): 0.3220 / 0.0553\n",
            "[60/100][0/469]\tLoss_D: 0.4174\tLoss_G: 3.0410\tD(x): 0.7734\tD(G(z)): 0.1018 / 0.0835\n",
            "[60/100][200/469]\tLoss_D: 0.4443\tLoss_G: 3.5769\tD(x): 0.9630\tD(G(z)): 0.2852 / 0.0499\n",
            "[60/100][400/469]\tLoss_D: 0.2794\tLoss_G: 2.7930\tD(x): 0.8826\tD(G(z)): 0.1223 / 0.0959\n",
            "[61/100][0/469]\tLoss_D: 0.7043\tLoss_G: 1.7588\tD(x): 0.5781\tD(G(z)): 0.0393 / 0.2546\n",
            "[61/100][200/469]\tLoss_D: 0.5778\tLoss_G: 3.4538\tD(x): 0.7916\tD(G(z)): 0.2293 / 0.0514\n",
            "[61/100][400/469]\tLoss_D: 0.3478\tLoss_G: 3.8741\tD(x): 0.9395\tD(G(z)): 0.2106 / 0.0346\n",
            "[62/100][0/469]\tLoss_D: 0.3944\tLoss_G: 3.0328\tD(x): 0.9210\tD(G(z)): 0.2355 / 0.0697\n",
            "[62/100][200/469]\tLoss_D: 0.5734\tLoss_G: 1.3142\tD(x): 0.7390\tD(G(z)): 0.1751 / 0.3504\n",
            "[62/100][400/469]\tLoss_D: 0.3732\tLoss_G: 3.0498\tD(x): 0.8301\tD(G(z)): 0.1380 / 0.0821\n",
            "[63/100][0/469]\tLoss_D: 0.4408\tLoss_G: 3.8764\tD(x): 0.9450\tD(G(z)): 0.2630 / 0.0364\n",
            "[63/100][200/469]\tLoss_D: 0.2789\tLoss_G: 3.5917\tD(x): 0.8384\tD(G(z)): 0.0669 / 0.0569\n",
            "[63/100][400/469]\tLoss_D: 0.4706\tLoss_G: 2.1888\tD(x): 0.7023\tD(G(z)): 0.0496 / 0.1935\n",
            "[64/100][0/469]\tLoss_D: 0.2942\tLoss_G: 2.2720\tD(x): 0.8156\tD(G(z)): 0.0646 / 0.1499\n",
            "[64/100][200/469]\tLoss_D: 0.5253\tLoss_G: 2.7039\tD(x): 0.6666\tD(G(z)): 0.0407 / 0.1131\n",
            "[64/100][400/469]\tLoss_D: 0.3135\tLoss_G: 2.7651\tD(x): 0.8064\tD(G(z)): 0.0722 / 0.1045\n",
            "[65/100][0/469]\tLoss_D: 0.4015\tLoss_G: 3.5083\tD(x): 0.7611\tD(G(z)): 0.0750 / 0.0502\n",
            "[65/100][200/469]\tLoss_D: 0.3909\tLoss_G: 2.8718\tD(x): 0.7392\tD(G(z)): 0.0385 / 0.1064\n",
            "[65/100][400/469]\tLoss_D: 0.4587\tLoss_G: 4.5256\tD(x): 0.9646\tD(G(z)): 0.2787 / 0.0229\n",
            "[66/100][0/469]\tLoss_D: 0.4143\tLoss_G: 3.1486\tD(x): 0.8280\tD(G(z)): 0.1466 / 0.0740\n",
            "[66/100][200/469]\tLoss_D: 0.5874\tLoss_G: 1.7229\tD(x): 0.6173\tD(G(z)): 0.0180 / 0.2794\n",
            "[66/100][400/469]\tLoss_D: 0.8351\tLoss_G: 1.2047\tD(x): 0.5731\tD(G(z)): 0.1369 / 0.3815\n",
            "[67/100][0/469]\tLoss_D: 0.5863\tLoss_G: 1.6753\tD(x): 0.7293\tD(G(z)): 0.1601 / 0.2707\n",
            "[67/100][200/469]\tLoss_D: 0.4528\tLoss_G: 3.4347\tD(x): 0.9602\tD(G(z)): 0.2833 / 0.0518\n",
            "[67/100][400/469]\tLoss_D: 0.7347\tLoss_G: 1.5601\tD(x): 0.5435\tD(G(z)): 0.0207 / 0.2830\n",
            "[68/100][0/469]\tLoss_D: 0.4934\tLoss_G: 2.2629\tD(x): 0.7404\tD(G(z)): 0.1189 / 0.1745\n",
            "[68/100][200/469]\tLoss_D: 0.5671\tLoss_G: 2.2494\tD(x): 0.6208\tD(G(z)): 0.0188 / 0.1826\n",
            "[68/100][400/469]\tLoss_D: 0.3247\tLoss_G: 2.4150\tD(x): 0.8791\tD(G(z)): 0.1449 / 0.1333\n",
            "[69/100][0/469]\tLoss_D: 0.3127\tLoss_G: 3.3360\tD(x): 0.8276\tD(G(z)): 0.0803 / 0.0715\n",
            "[69/100][200/469]\tLoss_D: 0.3642\tLoss_G: 2.4399\tD(x): 0.7930\tD(G(z)): 0.0966 / 0.1325\n",
            "[69/100][400/469]\tLoss_D: 0.3763\tLoss_G: 3.9033\tD(x): 0.9701\tD(G(z)): 0.2596 / 0.0317\n",
            "[70/100][0/469]\tLoss_D: 0.6298\tLoss_G: 4.9184\tD(x): 0.9763\tD(G(z)): 0.3907 / 0.0157\n",
            "[70/100][200/469]\tLoss_D: 0.5362\tLoss_G: 1.7202\tD(x): 0.6690\tD(G(z)): 0.0615 / 0.2830\n",
            "[70/100][400/469]\tLoss_D: 0.5700\tLoss_G: 1.9328\tD(x): 0.6663\tD(G(z)): 0.0649 / 0.2376\n",
            "[71/100][0/469]\tLoss_D: 0.4825\tLoss_G: 3.5277\tD(x): 0.8749\tD(G(z)): 0.2482 / 0.0438\n",
            "[71/100][200/469]\tLoss_D: 0.2689\tLoss_G: 3.1324\tD(x): 0.8805\tD(G(z)): 0.1117 / 0.0647\n",
            "[71/100][400/469]\tLoss_D: 0.5950\tLoss_G: 2.1169\tD(x): 0.6977\tD(G(z)): 0.1401 / 0.1782\n",
            "[72/100][0/469]\tLoss_D: 0.8333\tLoss_G: 4.5764\tD(x): 0.9526\tD(G(z)): 0.4797 / 0.0159\n",
            "[72/100][200/469]\tLoss_D: 0.2987\tLoss_G: 3.3277\tD(x): 0.9492\tD(G(z)): 0.1932 / 0.0577\n",
            "[72/100][400/469]\tLoss_D: 0.5320\tLoss_G: 1.9601\tD(x): 0.6737\tD(G(z)): 0.0404 / 0.2137\n",
            "[73/100][0/469]\tLoss_D: 0.2421\tLoss_G: 4.1510\tD(x): 0.8881\tD(G(z)): 0.0949 / 0.0340\n",
            "[73/100][200/469]\tLoss_D: 0.3460\tLoss_G: 2.8062\tD(x): 0.8472\tD(G(z)): 0.1267 / 0.0999\n",
            "[73/100][400/469]\tLoss_D: 0.4747\tLoss_G: 3.3798\tD(x): 0.8426\tD(G(z)): 0.2083 / 0.0543\n",
            "[74/100][0/469]\tLoss_D: 0.3960\tLoss_G: 2.6017\tD(x): 0.7578\tD(G(z)): 0.0612 / 0.1310\n",
            "[74/100][200/469]\tLoss_D: 0.2826\tLoss_G: 3.1507\tD(x): 0.8932\tD(G(z)): 0.1324 / 0.0691\n",
            "[74/100][400/469]\tLoss_D: 0.6914\tLoss_G: 3.4534\tD(x): 0.8931\tD(G(z)): 0.3661 / 0.0519\n",
            "[75/100][0/469]\tLoss_D: 0.5041\tLoss_G: 3.7923\tD(x): 0.8959\tD(G(z)): 0.2735 / 0.0360\n",
            "[75/100][200/469]\tLoss_D: 0.2488\tLoss_G: 2.7905\tD(x): 0.8984\tD(G(z)): 0.1126 / 0.1018\n",
            "[75/100][400/469]\tLoss_D: 0.3060\tLoss_G: 3.5091\tD(x): 0.8644\tD(G(z)): 0.1219 / 0.0504\n",
            "[76/100][0/469]\tLoss_D: 0.4570\tLoss_G: 2.5041\tD(x): 0.7920\tD(G(z)): 0.1542 / 0.1317\n",
            "[76/100][200/469]\tLoss_D: 0.2203\tLoss_G: 3.8655\tD(x): 0.9478\tD(G(z)): 0.1311 / 0.0387\n",
            "[76/100][400/469]\tLoss_D: 1.0467\tLoss_G: 5.4977\tD(x): 0.9659\tD(G(z)): 0.5252 / 0.0105\n",
            "[77/100][0/469]\tLoss_D: 0.3357\tLoss_G: 2.6249\tD(x): 0.8912\tD(G(z)): 0.1558 / 0.1123\n",
            "[77/100][200/469]\tLoss_D: 0.3414\tLoss_G: 2.8355\tD(x): 0.8581\tD(G(z)): 0.1394 / 0.0889\n",
            "[77/100][400/469]\tLoss_D: 0.4246\tLoss_G: 2.7551\tD(x): 0.9229\tD(G(z)): 0.2398 / 0.0960\n",
            "[78/100][0/469]\tLoss_D: 0.3445\tLoss_G: 3.2050\tD(x): 0.7801\tD(G(z)): 0.0644 / 0.0712\n",
            "[78/100][200/469]\tLoss_D: 0.4065\tLoss_G: 2.9734\tD(x): 0.7413\tD(G(z)): 0.0517 / 0.0977\n",
            "[78/100][400/469]\tLoss_D: 0.5172\tLoss_G: 3.2884\tD(x): 0.9526\tD(G(z)): 0.3242 / 0.0589\n",
            "[79/100][0/469]\tLoss_D: 0.5200\tLoss_G: 4.7909\tD(x): 0.8648\tD(G(z)): 0.2618 / 0.0181\n",
            "[79/100][200/469]\tLoss_D: 0.2709\tLoss_G: 3.4242\tD(x): 0.9176\tD(G(z)): 0.1459 / 0.0656\n",
            "[79/100][400/469]\tLoss_D: 0.3824\tLoss_G: 2.9994\tD(x): 0.8246\tD(G(z)): 0.1329 / 0.0861\n",
            "[80/100][0/469]\tLoss_D: 0.2760\tLoss_G: 3.8748\tD(x): 0.8800\tD(G(z)): 0.1131 / 0.0397\n",
            "[80/100][200/469]\tLoss_D: 0.4728\tLoss_G: 3.8461\tD(x): 0.9621\tD(G(z)): 0.3046 / 0.0360\n",
            "[80/100][400/469]\tLoss_D: 0.3788\tLoss_G: 2.9687\tD(x): 0.8001\tD(G(z)): 0.1023 / 0.0993\n",
            "[81/100][0/469]\tLoss_D: 0.3247\tLoss_G: 2.4571\tD(x): 0.8272\tD(G(z)): 0.0967 / 0.1490\n",
            "[81/100][200/469]\tLoss_D: 0.1650\tLoss_G: 3.8431\tD(x): 0.9395\tD(G(z)): 0.0866 / 0.0420\n",
            "[81/100][400/469]\tLoss_D: 1.0438\tLoss_G: 0.8703\tD(x): 0.4926\tD(G(z)): 0.1280 / 0.5466\n",
            "[82/100][0/469]\tLoss_D: 0.4492\tLoss_G: 2.9571\tD(x): 0.8700\tD(G(z)): 0.2077 / 0.0941\n",
            "[82/100][200/469]\tLoss_D: 0.3336\tLoss_G: 3.3406\tD(x): 0.7779\tD(G(z)): 0.0373 / 0.0915\n",
            "[82/100][400/469]\tLoss_D: 0.4188\tLoss_G: 2.4204\tD(x): 0.7273\tD(G(z)): 0.0593 / 0.1387\n",
            "[83/100][0/469]\tLoss_D: 1.6421\tLoss_G: 6.9136\tD(x): 0.9901\tD(G(z)): 0.6914 / 0.0037\n",
            "[83/100][200/469]\tLoss_D: 0.3340\tLoss_G: 3.2429\tD(x): 0.8686\tD(G(z)): 0.1366 / 0.0717\n",
            "[83/100][400/469]\tLoss_D: 0.4755\tLoss_G: 2.1239\tD(x): 0.6878\tD(G(z)): 0.0327 / 0.2003\n",
            "[84/100][0/469]\tLoss_D: 0.6012\tLoss_G: 3.8289\tD(x): 0.9812\tD(G(z)): 0.3758 / 0.0365\n",
            "[84/100][200/469]\tLoss_D: 0.2284\tLoss_G: 3.8080\tD(x): 0.9377\tD(G(z)): 0.1337 / 0.0394\n",
            "[84/100][400/469]\tLoss_D: 0.4214\tLoss_G: 2.8706\tD(x): 0.8506\tD(G(z)): 0.1918 / 0.0981\n",
            "[85/100][0/469]\tLoss_D: 0.2426\tLoss_G: 3.9576\tD(x): 0.9327\tD(G(z)): 0.1420 / 0.0314\n",
            "[85/100][200/469]\tLoss_D: 0.3492\tLoss_G: 2.9481\tD(x): 0.8574\tD(G(z)): 0.1417 / 0.0901\n",
            "[85/100][400/469]\tLoss_D: 0.2943\tLoss_G: 2.7932\tD(x): 0.9021\tD(G(z)): 0.1388 / 0.1022\n",
            "[86/100][0/469]\tLoss_D: 0.8703\tLoss_G: 4.0559\tD(x): 0.9660\tD(G(z)): 0.4631 / 0.0364\n",
            "[86/100][200/469]\tLoss_D: 0.2957\tLoss_G: 3.6042\tD(x): 0.8890\tD(G(z)): 0.1393 / 0.0462\n",
            "[86/100][400/469]\tLoss_D: 0.2178\tLoss_G: 3.4267\tD(x): 0.8849\tD(G(z)): 0.0782 / 0.0536\n",
            "[87/100][0/469]\tLoss_D: 0.2786\tLoss_G: 3.4430\tD(x): 0.8693\tD(G(z)): 0.1105 / 0.0614\n",
            "[87/100][200/469]\tLoss_D: 0.2665\tLoss_G: 3.5409\tD(x): 0.9372\tD(G(z)): 0.1569 / 0.0515\n",
            "[87/100][400/469]\tLoss_D: 0.6919\tLoss_G: 1.9029\tD(x): 0.5741\tD(G(z)): 0.0162 / 0.2430\n",
            "[88/100][0/469]\tLoss_D: 0.3337\tLoss_G: 3.0254\tD(x): 0.7900\tD(G(z)): 0.0589 / 0.1077\n",
            "[88/100][200/469]\tLoss_D: 0.4752\tLoss_G: 4.1485\tD(x): 0.7831\tD(G(z)): 0.1391 / 0.0331\n",
            "[88/100][400/469]\tLoss_D: 0.5665\tLoss_G: 4.4915\tD(x): 0.9600\tD(G(z)): 0.3229 / 0.0215\n",
            "[89/100][0/469]\tLoss_D: 0.4236\tLoss_G: 2.8298\tD(x): 0.7743\tD(G(z)): 0.1192 / 0.1069\n",
            "[89/100][200/469]\tLoss_D: 0.2566\tLoss_G: 3.4688\tD(x): 0.8929\tD(G(z)): 0.1144 / 0.0520\n",
            "[89/100][400/469]\tLoss_D: 0.5112\tLoss_G: 2.9237\tD(x): 0.8371\tD(G(z)): 0.2313 / 0.0887\n",
            "[90/100][0/469]\tLoss_D: 0.3684\tLoss_G: 2.9646\tD(x): 0.8483\tD(G(z)): 0.1528 / 0.1034\n",
            "[90/100][200/469]\tLoss_D: 0.4712\tLoss_G: 2.7813\tD(x): 0.7553\tD(G(z)): 0.0855 / 0.1129\n",
            "[90/100][400/469]\tLoss_D: 0.2938\tLoss_G: 2.9119\tD(x): 0.8442\tD(G(z)): 0.0934 / 0.0970\n",
            "[91/100][0/469]\tLoss_D: 0.7627\tLoss_G: 2.0092\tD(x): 0.5540\tD(G(z)): 0.0379 / 0.2310\n",
            "[91/100][200/469]\tLoss_D: 0.5092\tLoss_G: 3.3666\tD(x): 0.8923\tD(G(z)): 0.2707 / 0.0575\n",
            "[91/100][400/469]\tLoss_D: 0.7758\tLoss_G: 2.4002\tD(x): 0.5768\tD(G(z)): 0.0585 / 0.1740\n",
            "[92/100][0/469]\tLoss_D: 0.4398\tLoss_G: 4.4931\tD(x): 0.9560\tD(G(z)): 0.2644 / 0.0199\n",
            "[92/100][200/469]\tLoss_D: 0.6157\tLoss_G: 3.6115\tD(x): 0.8663\tD(G(z)): 0.3120 / 0.0451\n",
            "[92/100][400/469]\tLoss_D: 0.4744\tLoss_G: 3.7823\tD(x): 0.8802\tD(G(z)): 0.2551 / 0.0359\n",
            "[93/100][0/469]\tLoss_D: 0.4617\tLoss_G: 3.7677\tD(x): 0.9482\tD(G(z)): 0.2797 / 0.0446\n",
            "[93/100][200/469]\tLoss_D: 0.3722\tLoss_G: 4.1143\tD(x): 0.9447\tD(G(z)): 0.2203 / 0.0349\n",
            "[93/100][400/469]\tLoss_D: 0.1960\tLoss_G: 3.3124\tD(x): 0.9043\tD(G(z)): 0.0775 / 0.0693\n",
            "[94/100][0/469]\tLoss_D: 0.2578\tLoss_G: 3.1050\tD(x): 0.8840\tD(G(z)): 0.1011 / 0.0778\n",
            "[94/100][200/469]\tLoss_D: 0.6122\tLoss_G: 4.2493\tD(x): 0.9075\tD(G(z)): 0.3462 / 0.0223\n",
            "[94/100][400/469]\tLoss_D: 0.7043\tLoss_G: 5.8596\tD(x): 0.9647\tD(G(z)): 0.3904 / 0.0053\n",
            "[95/100][0/469]\tLoss_D: 0.2928\tLoss_G: 2.9601\tD(x): 0.8221\tD(G(z)): 0.0700 / 0.0902\n",
            "[95/100][200/469]\tLoss_D: 0.5354\tLoss_G: 4.1816\tD(x): 0.9913\tD(G(z)): 0.3508 / 0.0259\n",
            "[95/100][400/469]\tLoss_D: 1.0467\tLoss_G: 1.5146\tD(x): 0.4932\tD(G(z)): 0.0463 / 0.3586\n",
            "[96/100][0/469]\tLoss_D: 0.2535\tLoss_G: 3.5555\tD(x): 0.8538\tD(G(z)): 0.0683 / 0.0600\n",
            "[96/100][200/469]\tLoss_D: 0.2694\tLoss_G: 3.1327\tD(x): 0.8443\tD(G(z)): 0.0742 / 0.0688\n",
            "[96/100][400/469]\tLoss_D: 0.4656\tLoss_G: 1.5887\tD(x): 0.6994\tD(G(z)): 0.0489 / 0.3118\n",
            "[97/100][0/469]\tLoss_D: 0.3081\tLoss_G: 4.6461\tD(x): 0.8867\tD(G(z)): 0.1426 / 0.0180\n",
            "[97/100][200/469]\tLoss_D: 1.1092\tLoss_G: 6.2696\tD(x): 0.9889\tD(G(z)): 0.5230 / 0.0051\n",
            "[97/100][400/469]\tLoss_D: 0.3167\tLoss_G: 3.3764\tD(x): 0.9527\tD(G(z)): 0.2017 / 0.0543\n",
            "[98/100][0/469]\tLoss_D: 0.2850\tLoss_G: 3.3830\tD(x): 0.8996\tD(G(z)): 0.1407 / 0.0642\n",
            "[98/100][200/469]\tLoss_D: 0.5403\tLoss_G: 4.1492\tD(x): 0.9679\tD(G(z)): 0.3387 / 0.0304\n",
            "[98/100][400/469]\tLoss_D: 2.9241\tLoss_G: 0.1560\tD(x): 0.1184\tD(G(z)): 0.0112 / 0.9071\n",
            "[99/100][0/469]\tLoss_D: 0.3311\tLoss_G: 2.8508\tD(x): 0.7892\tD(G(z)): 0.0541 / 0.1028\n",
            "[99/100][200/469]\tLoss_D: 0.1426\tLoss_G: 4.5090\tD(x): 0.9330\tD(G(z)): 0.0599 / 0.0199\n",
            "[99/100][400/469]\tLoss_D: 0.3068\tLoss_G: 4.1911\tD(x): 0.8214\tD(G(z)): 0.0698 / 0.0358\n"
          ]
        }
      ],
      "source": [
        "# Hyperparameters\n",
        "num_epochs = 100\n",
        "\n",
        "# Set up dataloader\n",
        "dataloader = torch.utils.data.DataLoader(dataset, batch_size=batch_size, shuffle=True, num_workers=workers)\n",
        "\n",
        "# Training Loop\n",
        "for epoch in range(num_epochs):\n",
        "    # For each batch in the dataloader\n",
        "    for i, data in enumerate(dataloader, 0):\n",
        "\n",
        "        ############################\n",
        "        # (1) Update D network: maximize log(D(x)) + log(1 - D(G(z)))\n",
        "        ###########################\n",
        "        ## Train with all-real batch\n",
        "        netD.zero_grad()\n",
        "        # Format batch\n",
        "        real_cpu = data[0].to(device)\n",
        "        b_size = real_cpu.size(0)\n",
        "        label = torch.full((b_size,), real_label, dtype=torch.float, device=device)\n",
        "        # Forward pass real batch through D\n",
        "        output = netD(real_cpu.float()).view(-1)\n",
        "        # Calculate loss on all-real batch\n",
        "        errD_real = criterion(output, label)\n",
        "        # Calculate gradients for D in backward pass\n",
        "        errD_real.backward()\n",
        "        D_x = output.mean().item()\n",
        "\n",
        "        ## Train with all-fake batch\n",
        "        # Generate batch of latent vectors\n",
        "        noise = torch.randn(b_size, nz, 1, 1, device=device)\n",
        "        # Generate fake image batch with G\n",
        "        fake = netG(noise)\n",
        "        label.fill_(fake_label)\n",
        "        # Classify all fake batch with D\n",
        "        output = netD(fake.clone().detach()).view(-1)\n",
        "        # Calculate D's loss on the all-fake batch\n",
        "        errD_fake = criterion(output, label)\n",
        "        # Calculate the gradients for this batch, accumulated (summed) with previous gradients\n",
        "        errD_fake.backward()\n",
        "        D_G_z1 = output.mean().item()\n",
        "        # Compute error of D as sum over the fake and the real batches\n",
        "        errD = errD_real + errD_fake\n",
        "        # Update D\n",
        "        optimizerD.step()\n",
        "\n",
        "        ############################\n",
        "        # (2) Update G network: maximize log(D(G(z)))\n",
        "        ###########################\n",
        "        netG.zero_grad()\n",
        "        label.fill_(real_label)  # fake labels are real for generator cost\n",
        "        # Since we just updated D, perform another forward pass of all-fake batch through D\n",
        "        output = netD(fake).view(-1)\n",
        "        # Calculate G's loss based on this output\n",
        "        errG = criterion(output, label)\n",
        "        # Calculate gradients for G\n",
        "        errG.backward()\n",
        "        D_G_z2 = output.mean().item()\n",
        "        # Update G\n",
        "        optimizerG.step()\n",
        "\n",
        "        # Output training stats\n",
        "        if i % 200 == 0:\n",
        "            print('[%d/%d][%d/%d]\\tLoss_D: %.4f\\tLoss_G: %.4f\\tD(x): %.4f\\tD(G(z)): %.4f / %.4f'\n",
        "                  % (epoch, num_epochs, i, len(dataloader),\n",
        "                     errD.item(), errG.item(), D_x, D_G_z1, D_G_z2))\n"
      ]
    },
    {
      "cell_type": "markdown",
      "metadata": {
        "id": "G7rO5izHEkbf"
      },
      "source": [
        "## Sampling"
      ]
    },
    {
      "cell_type": "markdown",
      "metadata": {},
      "source": [
        "We do not need the discriminator to generator samples, just the generator.  Here we generate and display 64 MNIST images."
      ]
    },
    {
      "cell_type": "code",
      "execution_count": 21,
      "metadata": {
        "colab": {
          "base_uri": "https://localhost:8080/",
          "height": 1000
        },
        "id": "HgpAUnVOmZkO",
        "outputId": "ad50c4d3-0dca-48c6-cab6-87a030d6c7c1"
      },
      "outputs": [
        {
          "data": {
            "image/png": "[encoded data removed]",
            "text/plain": [
              "<Figure size 1080x1440 with 64 Axes>"
            ]
          },
          "metadata": {
            "needs_background": "light"
          },
          "output_type": "display_data"
        }
      ],
      "source": [
        "# Generate batch of latent vectors\n",
        "batch_size = 64\n",
        "noise = torch.randn(batch_size, nz, 1, 1, device=device)\n",
        "# Generate fake image batch with G\n",
        "fake = netG(noise)\n",
        "\n",
        "# Initalize plots \n",
        "fig, axs = plt.subplots(8, 8, figsize=(15,20))\n",
        "fig.suptitle(\"Samples\", fontsize=\"x-large\")\n",
        "\n",
        "for i in range(batch_size):\n",
        "  fake_img = fake[i,0,:,:]\n",
        "  fake_img = fake_img.cpu().detach().numpy()\n",
        "\n",
        "  axs[int(i / 8), int(i % 8)].imshow(fake_img)\n",
        "  axs[int(i / 8), int(i % 8)].axis('off')\n"
      ]
    }
  ],
  "metadata": {
    "accelerator": "GPU",
    "colab": {
      "provenance": []
    },
    "kernelspec": {
      "display_name": "Python 3.8.8 ('base')",
      "language": "python",
      "name": "python3"
    },
    "language_info": {
      "codemirror_mode": {
        "name": "ipython",
        "version": 3
      },
      "file_extension": ".py",
      "mimetype": "text/x-python",
      "name": "python",
      "nbconvert_exporter": "python",
      "pygments_lexer": "ipython3",
      "version": "3.8.8"
    },
    "vscode": {
      "interpreter": {
        "hash": "670f56a09e544e4bbfbd6b5287e0e16c8302d350aabab9be44abb05d0d81374c"
      }
    }
  },
  "nbformat": 4,
  "nbformat_minor": 0
}
